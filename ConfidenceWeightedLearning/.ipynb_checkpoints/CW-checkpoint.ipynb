{
 "cells": [
  {
   "cell_type": "code",
   "execution_count": 1,
   "metadata": {
    "collapsed": false
   },
   "outputs": [],
   "source": [
    "from sklearn.base import BaseEstimator, ClassifierMixin\n",
    "import numpy as np\n",
    "from scipy.stats import norm\n",
    "from sklearn.utils import shuffle\n",
    "from math import sqrt\n",
    "from sklearn.datasets import fetch_mldata\n",
    "from sklearn.preprocessing import scale, LabelEncoder\n",
    "from sklearn.model_selection import GridSearchCV, train_test_split"
   ]
  },
  {
   "cell_type": "code",
   "execution_count": null,
   "metadata": {
    "collapsed": false
   },
   "outputs": [],
   "source": [
    "class CW(BaseEstimator, ClassifierMixin):\n",
    "    def __init__(self, eta=0.90, n_iter=5, shuffle=True, random_state=None):\n",
    "        self.eta = eta\n",
    "        self.n_iter = n_iter\n",
    "        self.shuffle = shuffle\n",
    "        self.random_state = random_state\n",
    "        self.phi = norm.cdf(self.eta)**(-1)\n",
    "        \n",
    "    def fit(self, X, y):\n",
    "        n_samples, n_features = X.shape\n",
    "        self.mu = np.ones(n_features).reshape(n_features, 1)\n",
    "        self.sigma = np.diag([1.0] * n_features)\n",
    "        \n",
    "        for epoch in range(self.n_iter):\n",
    "            if self.shuffle:\n",
    "                X, y = shuffle(X, y, random_state=self.random_state)\n",
    "            \n",
    "            for i in range(n_samples):\n",
    "                self._update(X[i:i + 1], y[i:i + 1])\n",
    "\n",
    "    def _update(self, X, y):\n",
    "        m = int(y * X @ self.mu)\n",
    "        v = int(X @ (self.sigma @ X.T))\n",
    "        gamma = (- (1 + 2 * self.phi * m) + sqrt((1 + 2 * self.phi * m) ** 2 - 8 * self.phi * (m - self.phi * v))) / (4 * self.phi * v)\n",
    "        alpha = max(0, gamma)\n",
    "        self.mu = self.mu + alpha * y * self.sigma @ X.T\n",
    "        self.sigma = np.linalg.inv(np.linalg.inv(self.sigma) + 2 * alpha * self.phi * np.diag(X ** 2))\n",
    "        \n",
    "    def predict(self, X):\n",
    "        return np.sign(np.dot(X, self.mu))"
   ]
  },
  {
   "cell_type": "code",
   "execution_count": null,
   "metadata": {
    "collapsed": false
   },
   "outputs": [
    {
     "name": "stdout",
     "output_type": "stream",
     "text": [
      "Fitting 5 folds for each of 4 candidates, totalling 20 fits\n",
      "[CV] eta=0.001 .......................................................\n",
      "[CV] .............................................. eta=0.001 -   0.0s\n",
      "[CV] eta=0.001 .......................................................\n"
     ]
    },
    {
     "name": "stderr",
     "output_type": "stream",
     "text": [
      "[Parallel(n_jobs=1)]: Done   1 out of   1 | elapsed:  1.3min remaining:    0.0s\n"
     ]
    },
    {
     "name": "stdout",
     "output_type": "stream",
     "text": [
      "[CV] .............................................. eta=0.001 -   0.0s\n",
      "[CV] eta=0.001 .......................................................\n"
     ]
    }
   ],
   "source": [
    "usps = fetch_mldata('usps')\n",
    "X = scale(usps.data)\n",
    "y = usps.target\n",
    "y_bin = np.array([1 if i >= 5 else -1 for i in y])\n",
    "\n",
    "X_train, X_test, y_train, y_test = train_test_split(X, y_bin, test_size=0.3, random_state=0)\n",
    "\n",
    "'''\n",
    "estimator = CW(eta = 0.90, n_iter=5, shuffle=True, random_state=0)\n",
    "estimator.fit(X_train, y_train)\n",
    "y_pred = estimator.predict(X_test)\n",
    "print('CW : {0:.4f}'.format(estimator.score(X_test, y_test)))\n",
    "'''\n",
    "\n",
    "score = GridSearchCV(\n",
    "    estimator = CW(n_iter=5, shuffle=True, random_state=0),\n",
    "    param_grid = {'eta': (0.001, 0.01, 0.1, 1.0)},\n",
    "    cv = 5,\n",
    "    verbose = 2\n",
    ").fit(X_train, y_train).score(X_test, y_test)\n",
    "print('CW : {0:.4f}'.format(score))"
   ]
  },
  {
   "cell_type": "markdown",
   "metadata": {},
   "source": [
    "## Confidence Weighted Learning\n",
    "\n",
    "\\begin{align}\n",
    "    \\textbf{$\\mu$}_{i + 1} &= \\textbf{$\\mu$}_i + \\alpha y_i \\Sigma_i \\mathbf{x}_i \\\\\n",
    "    \\Sigma_{i + 1} &= \\Sigma_i - \\Sigma_i \\mathbf{x}_i \\frac{2 \\alpha \\phi}{1 + 2 \\alpha \\phi \\mathbf{x}^{\\mathrm{T}}_i \\Sigma_i \\mathbf{x}_i} \\mathbf{x}^{\\mathrm{T}}_i \\Sigma_i \\\\\n",
    "    \\alpha &=\n",
    "\\end{align}"
   ]
  }
 ],
 "metadata": {
  "kernelspec": {
   "display_name": "Python 3",
   "language": "python",
   "name": "python3"
  },
  "language_info": {
   "codemirror_mode": {
    "name": "ipython",
    "version": 3
   },
   "file_extension": ".py",
   "mimetype": "text/x-python",
   "name": "python",
   "nbconvert_exporter": "python",
   "pygments_lexer": "ipython3",
   "version": "3.5.1"
  }
 },
 "nbformat": 4,
 "nbformat_minor": 0
}
