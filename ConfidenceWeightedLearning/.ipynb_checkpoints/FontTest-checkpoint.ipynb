{
 "cells": [
  {
   "cell_type": "markdown",
   "metadata": {},
   "source": [
    "## Font Test\n",
    "\\bf{a} \\\\\n",
    "\\bf{$a$} \\\\\n",
    "\\textbf{a} \\\\\n",
    "\\textbf{$a$} \\\\\n",
    "\\mathbf{a} \\\\\n",
    "\\mathbf{$a$} \\\\\n",
    "\n",
    "\\begin{align}\n",
    "    \\bf{a} \\\\\n",
    "    \\bf{$a$} \\\\\n",
    "    \\textbf{a} \\\\\n",
    "    \\textbf{$a$} \\\\\n",
    "    \\mathbf{a} \\\\\n",
    "    \\mathbf{$a$} \\\\\n",
    "    \\bf{\\alpha} \\\\\n",
    "    \\bf{$\\alpha$} \\\\\n",
    "    \\textbf{\\alpha} \\\\\n",
    "    \\textbf{$\\alpha$} \\\\\n",
    "    \\mathbf{\\alpha} \\\\\n",
    "    \\mathbf{$\\alpha$} \\\\\n",
    "\\end{align}"
   ]
  },
  {
   "cell_type": "code",
   "execution_count": null,
   "metadata": {
    "collapsed": true
   },
   "outputs": [],
   "source": []
  },
  {
   "cell_type": "code",
   "execution_count": null,
   "metadata": {
    "collapsed": true
   },
   "outputs": [],
   "source": []
  }
 ],
 "metadata": {
  "kernelspec": {
   "display_name": "Python 3",
   "language": "python",
   "name": "python3"
  },
  "language_info": {
   "codemirror_mode": {
    "name": "ipython",
    "version": 3
   },
   "file_extension": ".py",
   "mimetype": "text/x-python",
   "name": "python",
   "nbconvert_exporter": "python",
   "pygments_lexer": "ipython3",
   "version": "3.5.1"
  }
 },
 "nbformat": 4,
 "nbformat_minor": 0
}
