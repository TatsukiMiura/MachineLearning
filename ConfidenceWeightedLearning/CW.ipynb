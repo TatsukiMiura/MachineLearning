{
 "cells": [
  {
   "cell_type": "code",
   "execution_count": 1,
   "metadata": {
    "collapsed": false
   },
   "outputs": [
    {
     "name": "stderr",
     "output_type": "stream",
     "text": [
      "C:\\Users\\Tatsuki\\Anaconda3\\lib\\site-packages\\sklearn\\cross_validation.py:44: DeprecationWarning: This module was deprecated in version 0.18 in favor of the model_selection module into which all the refactored classes and functions are moved. Also note that the interface of the new CV iterators are different from that of this module. This module will be removed in 0.20.\n",
      "  \"This module will be removed in 0.20.\", DeprecationWarning)\n"
     ]
    }
   ],
   "source": [
    "from sklearn.base import BaseEstimator, ClassifierMixin\n",
    "import numpy as np\n",
    "from scipy.stats import norm\n",
    "from sklearn.utils import shuffle\n",
    "from math import sqrt\n",
    "from sklearn.datasets import fetch_mldata\n",
    "from sklearn.preprocessing import scale, LabelEncoder\n",
    "from sklearn.cross_validation import train_test_split\n",
    "from sklearn.model_selection import GridSearchCV"
   ]
  },
  {
   "cell_type": "code",
   "execution_count": 2,
   "metadata": {
    "collapsed": false
   },
   "outputs": [],
   "source": [
    "class CW(BaseEstimator, ClassifierMixin):\n",
    "    def __init__(self, eta=0.90, n_iter=5, shuffle=True, random_state=100):\n",
    "        self.eta = eta\n",
    "        self.n_iter = n_iter\n",
    "        self.shuffle = shuffle\n",
    "        self.random_state = random_state\n",
    "        self.phi = norm.cdf(self.eta)**(-1)\n",
    "\n",
    "    def fit(self, X, y):\n",
    "        n_samples, n_features = X.shape\n",
    "        n_samples, n_classes = y.shape\n",
    "        self.mu = np.ones(n_features)\n",
    "        self.sigma = np.diag([1.0] * n_features)\n",
    "\n",
    "        for epoch in range(self.n_iter):\n",
    "            if self.shuffle:\n",
    "                X, y = shuffle(X, y, random_state=self.random_state)\n",
    "\n",
    "            for i in range(n_samples):\n",
    "                self._update(X[i:i + 1], y[i:i + 1])\n",
    "\n",
    "    def _update(self, X, y):\n",
    "        m = y * (np.dot(X, self.mu.T))\n",
    "        v = np.dot(np.dot(X, self.sigma), X.T)\n",
    "        gamma = (- (1 + 2 * self.phi * m) + sqrt((1 + 2 * self.phi * m) ** 2 - 8 * self.phi * (m - self.phi * v))) / (4 * self.phi * v)\n",
    "        alpha = max(0, gamma)\n",
    "        self.mu = self.mu + alpha * y * np.dot(self.sigma, X.T).T\n",
    "        self.sigma = (self.sigma ** (-1) + 2 * alpha * self.phi * np.diag(X)) ** (-1)\n",
    "\n",
    "    def predict(self, X):\n",
    "        return np.sign(np.dot(X, self.mu))"
   ]
  },
  {
   "cell_type": "code",
   "execution_count": 3,
   "metadata": {
    "collapsed": false
   },
   "outputs": [
    {
     "name": "stdout",
     "output_type": "stream",
     "text": [
      "X: [[ 1.89832846  3.93973756  5.02935469  4.22067368  3.14537848  2.39935706\n",
      "   1.721294    0.92928689  0.38336785  0.10912692 -0.01847927 -0.02587636\n",
      "  -0.13210366 -0.25080196 -0.25802783 -0.19972376  0.75371523  1.76872159\n",
      "   2.29584811  1.93228592  1.46723753  1.19533565  0.97597303  0.6800755\n",
      "   0.67776716  0.85810625  0.92632773  0.92125929  0.67552493  0.29844456\n",
      "  -0.05023886 -0.18466953 -0.0392709   0.08985379  0.06797936 -0.18396028\n",
      "  -0.44915605 -0.58365676 -0.60524676 -0.47726225 -0.03321159  0.59370786\n",
      "   1.0836427   1.45188028  1.74633993  1.58018228  0.74685465  0.08933998\n",
      "  -0.26108193 -0.39260735 -0.60572738 -0.87691823 -1.12883264 -1.27914439\n",
      "  -1.30884232 -1.11897582 -0.92936024 -0.64259408 -0.02320734  0.74875597\n",
      "   1.80602596  2.49342742  1.93110986  0.79630272 -0.30099472 -0.45152664\n",
      "  -0.66604798 -0.91915517 -1.13474548 -1.24194563 -1.25656979 -1.14842083\n",
      "  -1.14980324 -1.20655143 -0.95432604 -0.28177997  1.19392276  2.51652861\n",
      "   2.47108309  1.30864866 -0.32470024 -0.46572294 -0.6638267  -0.89655751\n",
      "  -1.08816853 -1.16981273 -1.19970259 -1.13282798 -1.15277445 -1.27148879\n",
      "  -1.15787333 -0.47699809  1.15166469  2.38653742  2.06202036  0.9644114\n",
      "  -0.34102559 -0.47004247 -0.65356313 -0.86487766 -1.04179075 -1.13625579\n",
      "  -1.20313015 -1.15891375 -1.19104622 -1.28202558 -0.99740442  0.04231449\n",
      "   1.63573151  2.20764395  1.21731641  0.26307507 -0.35077387 -0.47496373\n",
      "  -0.64666913 -0.83175404 -0.98037534 -1.08705566 -1.18127421 -1.17540857\n",
      "  -1.25491324 -1.25030563 -0.55249836  0.87865514  1.89009274  1.5214868\n",
      "   0.38522732 -0.17352433 -0.36783173 -0.4905522  -0.65300612 -0.80676521\n",
      "  -0.91343803 -1.00652568 -1.10340923 -1.14864641 -1.2437606  -0.92093251\n",
      "   0.26548656  1.4653029   1.47737313  0.496705   -0.20112118 -0.33692331\n",
      "  -0.39770543 -0.5190716  -0.67073768 -0.79330936 -0.85804719 -0.91507785\n",
      "  -1.00232399 -1.05357063 -0.94973071 -0.11479264  1.13276139  1.35643908\n",
      "   0.48240975 -0.29154438 -0.47001253 -0.39480869 -0.42757392 -0.55247052\n",
      "  -0.70169931 -0.80406    -0.83071233 -0.8426336  -0.87306096 -0.72933202\n",
      "  -0.1785166   0.84839676  1.25311003  0.4866421  -0.3911928  -0.65110903\n",
      "  -0.55123546 -0.41897075 -0.44006387 -0.57822324 -0.73907806 -0.84837457\n",
      "  -0.85673244 -0.78042163 -0.52827231  0.04290184  0.74148726  1.06331814\n",
      "   0.3222226  -0.51458871 -0.81690601 -0.74065781 -0.56269849 -0.41629428\n",
      "  -0.41980467 -0.57249438 -0.75255792 -0.88303781 -0.82150233 -0.42995948\n",
      "   0.27525318  0.82510606  0.81587379  0.08576329 -0.73870032 -0.98633413\n",
      "  -0.90613504 -0.71942629 -0.53076002 -0.38057078 -0.35609436 -0.50759701\n",
      "  -0.69301203 -0.74908978 -0.37290319  0.38303311  0.90049387  0.50690757\n",
      "  -0.46939301 -1.21618971 -1.20502186 -1.03438815 -0.83338573 -0.63007515\n",
      "  -0.44881496 -0.31576085 -0.26574405 -0.39385952 -0.5331     -0.27336375\n",
      "   0.5746266   0.97016156  0.41901    -0.93301794 -1.81694516 -1.61169255\n",
      "  -1.16898452 -0.88740667 -0.67291453 -0.48742155 -0.33916386 -0.24177995\n",
      "  -0.18732977 -0.27781801 -0.33426773  0.28340867  1.39792877  1.09254164\n",
      "  -0.28230995 -1.51466449 -1.81944046 -1.3947144  -0.95656024 -0.68663416\n",
      "  -0.49402106 -0.34462614 -0.2422351  -0.17928142]]\n",
      "sigma: [[ 1.  0.  0. ...,  0.  0.  0.]\n",
      " [ 0.  1.  0. ...,  0.  0.  0.]\n",
      " [ 0.  0.  1. ...,  0.  0.  0.]\n",
      " ..., \n",
      " [ 0.  0.  0. ...,  1.  0.  0.]\n",
      " [ 0.  0.  0. ...,  0.  1.  0.]\n",
      " [ 0.  0.  0. ...,  0.  0.  1.]]\n"
     ]
    },
    {
     "ename": "ValueError",
     "evalue": "shapes (256,256) and (1,256) not aligned: 256 (dim 1) != 1 (dim 0)",
     "output_type": "error",
     "traceback": [
      "\u001b[1;31m---------------------------------------------------------------------------\u001b[0m",
      "\u001b[1;31mValueError\u001b[0m                                Traceback (most recent call last)",
      "\u001b[1;32m<ipython-input-3-fc1c86b01a80>\u001b[0m in \u001b[0;36m<module>\u001b[1;34m()\u001b[0m\n\u001b[0;32m      7\u001b[0m \u001b[1;33m\u001b[0m\u001b[0m\n\u001b[0;32m      8\u001b[0m \u001b[0mestimator\u001b[0m \u001b[1;33m=\u001b[0m \u001b[0mCW\u001b[0m\u001b[1;33m(\u001b[0m\u001b[0meta\u001b[0m \u001b[1;33m=\u001b[0m \u001b[1;36m0.90\u001b[0m\u001b[1;33m,\u001b[0m \u001b[0mn_iter\u001b[0m\u001b[1;33m=\u001b[0m\u001b[1;36m5\u001b[0m\u001b[1;33m,\u001b[0m \u001b[0mshuffle\u001b[0m\u001b[1;33m=\u001b[0m\u001b[1;32mTrue\u001b[0m\u001b[1;33m,\u001b[0m \u001b[0mrandom_state\u001b[0m\u001b[1;33m=\u001b[0m\u001b[1;36m100\u001b[0m\u001b[1;33m)\u001b[0m\u001b[1;33m\u001b[0m\u001b[0m\n\u001b[1;32m----> 9\u001b[1;33m \u001b[0mestimator\u001b[0m\u001b[1;33m.\u001b[0m\u001b[0mfit\u001b[0m\u001b[1;33m(\u001b[0m\u001b[0mX_train\u001b[0m\u001b[1;33m,\u001b[0m \u001b[0my_train\u001b[0m\u001b[1;33m)\u001b[0m\u001b[1;33m\u001b[0m\u001b[0m\n\u001b[0m\u001b[0;32m     10\u001b[0m \u001b[0my_pred\u001b[0m \u001b[1;33m=\u001b[0m \u001b[0mestimator\u001b[0m\u001b[1;33m.\u001b[0m\u001b[0mpredict\u001b[0m\u001b[1;33m(\u001b[0m\u001b[0mX_test\u001b[0m\u001b[1;33m)\u001b[0m\u001b[1;33m\u001b[0m\u001b[0m\n\u001b[0;32m     11\u001b[0m \u001b[0mprint\u001b[0m\u001b[1;33m(\u001b[0m\u001b[1;34m'CW : '\u001b[0m\u001b[1;33m,\u001b[0m \u001b[0mscore\u001b[0m\u001b[1;33m(\u001b[0m\u001b[0mX_test\u001b[0m\u001b[1;33m,\u001b[0m \u001b[0my_test\u001b[0m\u001b[1;33m)\u001b[0m\u001b[1;33m)\u001b[0m\u001b[1;33m\u001b[0m\u001b[0m\n",
      "\u001b[1;32m<ipython-input-2-dfb7b4f75a11>\u001b[0m in \u001b[0;36mfit\u001b[1;34m(self, X, y)\u001b[0m\n\u001b[0;32m     17\u001b[0m \u001b[1;33m\u001b[0m\u001b[0m\n\u001b[0;32m     18\u001b[0m             \u001b[1;32mfor\u001b[0m \u001b[0mi\u001b[0m \u001b[1;32min\u001b[0m \u001b[0mrange\u001b[0m\u001b[1;33m(\u001b[0m\u001b[0mn_samples\u001b[0m\u001b[1;33m)\u001b[0m\u001b[1;33m:\u001b[0m\u001b[1;33m\u001b[0m\u001b[0m\n\u001b[1;32m---> 19\u001b[1;33m                 \u001b[0mself\u001b[0m\u001b[1;33m.\u001b[0m\u001b[0m_update\u001b[0m\u001b[1;33m(\u001b[0m\u001b[0mX\u001b[0m\u001b[1;33m[\u001b[0m\u001b[0mi\u001b[0m\u001b[1;33m:\u001b[0m\u001b[0mi\u001b[0m \u001b[1;33m+\u001b[0m \u001b[1;36m1\u001b[0m\u001b[1;33m]\u001b[0m\u001b[1;33m,\u001b[0m \u001b[0my\u001b[0m\u001b[1;33m[\u001b[0m\u001b[0mi\u001b[0m\u001b[1;33m:\u001b[0m\u001b[0mi\u001b[0m \u001b[1;33m+\u001b[0m \u001b[1;36m1\u001b[0m\u001b[1;33m]\u001b[0m\u001b[1;33m)\u001b[0m\u001b[1;33m\u001b[0m\u001b[0m\n\u001b[0m\u001b[0;32m     20\u001b[0m \u001b[1;33m\u001b[0m\u001b[0m\n\u001b[0;32m     21\u001b[0m         \u001b[1;32mreturn\u001b[0m \u001b[0mself\u001b[0m\u001b[1;33m\u001b[0m\u001b[0m\n",
      "\u001b[1;32m<ipython-input-2-dfb7b4f75a11>\u001b[0m in \u001b[0;36m_update\u001b[1;34m(self, X, y)\u001b[0m\n\u001b[0;32m     25\u001b[0m         \u001b[0mprint\u001b[0m\u001b[1;33m(\u001b[0m\u001b[1;34m'sigma:'\u001b[0m\u001b[1;33m,\u001b[0m \u001b[0mself\u001b[0m\u001b[1;33m.\u001b[0m\u001b[0msigma\u001b[0m\u001b[1;33m)\u001b[0m\u001b[1;33m\u001b[0m\u001b[0m\n\u001b[0;32m     26\u001b[0m         \u001b[0mm\u001b[0m \u001b[1;33m=\u001b[0m \u001b[0my\u001b[0m \u001b[1;33m*\u001b[0m \u001b[0mX\u001b[0m \u001b[1;33m@\u001b[0m \u001b[0mself\u001b[0m\u001b[1;33m.\u001b[0m\u001b[0mmu\u001b[0m\u001b[1;33m\u001b[0m\u001b[0m\n\u001b[1;32m---> 27\u001b[1;33m         \u001b[0mv\u001b[0m \u001b[1;33m=\u001b[0m \u001b[0mX\u001b[0m \u001b[1;33m@\u001b[0m \u001b[1;33m(\u001b[0m\u001b[0mself\u001b[0m\u001b[1;33m.\u001b[0m\u001b[0msigma\u001b[0m \u001b[1;33m@\u001b[0m \u001b[0mX\u001b[0m\u001b[1;33m)\u001b[0m\u001b[1;33m\u001b[0m\u001b[0m\n\u001b[0m\u001b[0;32m     28\u001b[0m         \u001b[0mgamma\u001b[0m \u001b[1;33m=\u001b[0m \u001b[1;33m(\u001b[0m\u001b[1;33m-\u001b[0m \u001b[1;33m(\u001b[0m\u001b[1;36m1\u001b[0m \u001b[1;33m+\u001b[0m \u001b[1;36m2\u001b[0m \u001b[1;33m*\u001b[0m \u001b[0mself\u001b[0m\u001b[1;33m.\u001b[0m\u001b[0mphi\u001b[0m \u001b[1;33m*\u001b[0m \u001b[0mm\u001b[0m\u001b[1;33m)\u001b[0m \u001b[1;33m+\u001b[0m \u001b[0msqrt\u001b[0m\u001b[1;33m(\u001b[0m\u001b[1;33m(\u001b[0m\u001b[1;36m1\u001b[0m \u001b[1;33m+\u001b[0m \u001b[1;36m2\u001b[0m \u001b[1;33m*\u001b[0m \u001b[0mself\u001b[0m\u001b[1;33m.\u001b[0m\u001b[0mphi\u001b[0m \u001b[1;33m*\u001b[0m \u001b[0mm\u001b[0m\u001b[1;33m)\u001b[0m \u001b[1;33m**\u001b[0m \u001b[1;36m2\u001b[0m \u001b[1;33m-\u001b[0m \u001b[1;36m8\u001b[0m \u001b[1;33m*\u001b[0m \u001b[0mself\u001b[0m\u001b[1;33m.\u001b[0m\u001b[0mphi\u001b[0m \u001b[1;33m*\u001b[0m \u001b[1;33m(\u001b[0m\u001b[0mm\u001b[0m \u001b[1;33m-\u001b[0m \u001b[0mself\u001b[0m\u001b[1;33m.\u001b[0m\u001b[0mphi\u001b[0m \u001b[1;33m*\u001b[0m \u001b[0mv\u001b[0m\u001b[1;33m)\u001b[0m\u001b[1;33m)\u001b[0m\u001b[1;33m)\u001b[0m \u001b[1;33m/\u001b[0m \u001b[1;33m(\u001b[0m\u001b[1;36m4\u001b[0m \u001b[1;33m*\u001b[0m \u001b[0mself\u001b[0m\u001b[1;33m.\u001b[0m\u001b[0mphi\u001b[0m \u001b[1;33m*\u001b[0m \u001b[0mv\u001b[0m\u001b[1;33m)\u001b[0m\u001b[1;33m\u001b[0m\u001b[0m\n\u001b[0;32m     29\u001b[0m         \u001b[0malpha\u001b[0m \u001b[1;33m=\u001b[0m \u001b[0mmax\u001b[0m\u001b[1;33m(\u001b[0m\u001b[1;36m0\u001b[0m\u001b[1;33m,\u001b[0m \u001b[0mgamma\u001b[0m\u001b[1;33m)\u001b[0m\u001b[1;33m\u001b[0m\u001b[0m\n",
      "\u001b[1;31mValueError\u001b[0m: shapes (256,256) and (1,256) not aligned: 256 (dim 1) != 1 (dim 0)"
     ]
    }
   ],
   "source": [
    "usps = fetch_mldata('usps')\n",
    "X = scale(usps.data)\n",
    "y = usps.target\n",
    "y_bin = np.array([1 if i >= 5 else -1 for i in y])\n",
    "\n",
    "X_train, X_test, y_train, y_test = train_test_split(X, y_bin, test_size=0.3, random_state=0)\n",
    "\n",
    "estimator = CW(eta = 0.90, n_iter=5, shuffle=True, random_state=100)\n",
    "estimator.fit(X_train, y_train)\n",
    "y_pred = estimator.predict(X_test)\n",
    "print('CW : ', score(X_test, y_test))"
   ]
  },
  {
   "cell_type": "markdown",
   "metadata": {},
   "source": [
    "## Confidence Weighted Learning\n",
    "\n",
    "\\begin{align}\n",
    "    \\textbf{$\\mu$}_{i + 1} &= \\textbf{$\\mu$}_i + \\alpha y_i \\Sigma_i \\mathbf{x}_i \\\\\n",
    "    \\Sigma_{i + 1} &= \\Sigma_i - \\Sigma_i \\mathbf{x}_i \\frac{2 \\alpha \\phi}{1 + 2 \\alpha \\phi \\mathbf{x}^{\\mathrm{T}}_i \\Sigma_i \\mathbf{x}_i} \\mathbf{x}^{\\mathrm{T}}_i \\Sigma_i \\\\\n",
    "    \\alpha &=\n",
    "\\end{align}"
   ]
  }
 ],
 "metadata": {
  "kernelspec": {
   "display_name": "Python 3",
   "language": "python",
   "name": "python3"
  },
  "language_info": {
   "codemirror_mode": {
    "name": "ipython",
    "version": 3
   },
   "file_extension": ".py",
   "mimetype": "text/x-python",
   "name": "python",
   "nbconvert_exporter": "python",
   "pygments_lexer": "ipython3",
   "version": "3.5.1"
  }
 },
 "nbformat": 4,
 "nbformat_minor": 0
}
