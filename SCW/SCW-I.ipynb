{
 "cells": [
  {
   "cell_type": "code",
   "execution_count": 1,
   "metadata": {
    "collapsed": true
   },
   "outputs": [],
   "source": [
    "from sklearn.base import BaseEstimator, ClassifierMixin\n",
    "import numpy as np\n",
    "from scipy.stats import norm\n",
    "from sklearn.utils import shuffle\n",
    "from math import sqrt\n",
    "from sklearn.datasets import fetch_mldata\n",
    "from sklearn.preprocessing import scale, LabelEncoder\n",
    "from sklearn.model_selection import GridSearchCV, train_test_split"
   ]
  },
  {
   "cell_type": "code",
   "execution_count": 2,
   "metadata": {
    "collapsed": false
   },
   "outputs": [],
   "source": [
    "class SCW1(BaseEstimator, ClassifierMixin):\n",
    "    def __init__(self, C=1.0, eta=0.90, n_iter=3, random_state=None, shuffle=True):\n",
    "        self.C = C\n",
    "        self.eta = eta\n",
    "        self.n_iter = n_iter\n",
    "        self.shuffle = shuffle\n",
    "        self.random_state = random_state\n",
    "        self.phi = norm.cdf(self.eta)**(-1)\n",
    "        self.psi = 1 + self.phi**2 / 2\n",
    "        self.zeta = 1 + self.phi**2\n",
    "        \n",
    "    def fit(self, X, Y):\n",
    "        n_samples, n_features = X.shape\n",
    "        self.mu = np.zeros(n_features).reshape(n_features, 1)\n",
    "        self.sigma = np.diag([1.0] * n_features)\n",
    "        \n",
    "        for epoch in range(self.n_iter):\n",
    "            if self.shuffle:\n",
    "                X, Y = shuffle(X, Y, random_state=self.random_state)\n",
    "            \n",
    "            for i in range(n_samples):\n",
    "                self._update(X[i:i + 1].T, Y[i:i + 1])\n",
    "\n",
    "    def _update(self, X, y):\n",
    "        m = float(y * self.mu.T @ X)\n",
    "        v = float(X.T @ (self.sigma @ X))\n",
    "        alpha = min(self.C, max(0, (-m * self.psi + sqrt(m**2 * self.phi**4 / 4 + v * self.phi**2 * self.zeta)) / (v * self.zeta)))\n",
    "        u = (-alpha * v * self.phi + sqrt(alpha**2 * v**2 * self.phi ** 2 + 4 * v))**2 / 4\n",
    "        beta = alpha * self.phi / (sqrt(u) + v * alpha * self.phi)\n",
    "\n",
    "        self.mu = self.mu + alpha * y * self.sigma @ X\n",
    "        self.sigma = self.sigma - beta * self.sigma @ X @ X.T @ self.sigma\n",
    "        \n",
    "    def predict(self, X):\n",
    "        return np.sign(X @ self.mu)"
   ]
  },
  {
   "cell_type": "code",
   "execution_count": null,
   "metadata": {
    "collapsed": false
   },
   "outputs": [],
   "source": [
    "usps = fetch_mldata('usps')\n",
    "X = scale(usps.data)\n",
    "y = usps.target\n",
    "y_bin = np.array([1 if i >= 5 else -1 for i in y])\n",
    "\n",
    "X_train, X_test, y_train, y_test = train_test_split(X, y_bin, test_size=0.3, random_state=0)\n",
    "\n",
    "scw1 = GridSearchCV(\n",
    "    estimator = SCW1(n_iter=3, random_state=0, shuffle=True),\n",
    "    param_grid = {'C': [2**-4, 2**-3, 2**-2, 2**-1, 1, 2, 4, 8, 16], 'eta': [0.5, 0.55, 0.6, 0.65, 0.7, 0.75, 0.8, 0.85, 0.9, 0.95]},\n",
    "    cv = 3,\n",
    "    verbose = 1\n",
    ")\n",
    "scw1.fit(X_train, y_train)\n",
    "print('the best C was  : ', scw1.best_params_['C'])\n",
    "print('the best eta was: ', scw1.best_params_['eta'])\n",
    "print('usps_SCW1       : {0:.4f}'.format(scw1.score(X_test, y_test)))"
   ]
  },
  {
   "cell_type": "code",
   "execution_count": 6,
   "metadata": {
    "collapsed": false
   },
   "outputs": [
    {
     "name": "stdout",
     "output_type": "stream",
     "text": [
      "Fitting 3 folds for each of 90 candidates, totalling 270 fits\n",
      "the best C was  :  0.5\n",
      "the best eta was:  0.6\n",
      "svmguide3_SCW1  : 0.7513\n"
     ]
    },
    {
     "name": "stderr",
     "output_type": "stream",
     "text": [
      "[Parallel(n_jobs=1)]: Done 270 out of 270 | elapsed:   19.8s finished\n"
     ]
    }
   ],
   "source": [
    "svmguide3 = fetch_mldata('svmguide3')\n",
    "X = scale(svmguide3.data)\n",
    "y = svmguide3.target\n",
    "\n",
    "X_train, X_test, y_train, y_test = train_test_split(X, y, test_size=0.3, random_state=0)\n",
    "\n",
    "scw1 = GridSearchCV(\n",
    "    estimator = SCW1(n_iter=5, random_state=None, shuffle=True),\n",
    "    param_grid = {'C': [2**-4, 2**-3, 2**-2, 2**-1, 1, 2, 4, 8, 16], 'eta': [0.5, 0.55, 0.6, 0.65, 0.7, 0.75, 0.8, 0.85, 0.9, 0.95]},\n",
    "    cv = 3,\n",
    "    verbose = 1\n",
    ")\n",
    "scw1.fit(X_train, y_train)\n",
    "print('the best C was  : ', scw1.best_params_['C'])\n",
    "print('the best eta was: ', scw1.best_params_['eta'])\n",
    "print('svmguide3_SCW1  : {0:.4f}'.format(scw1.score(X_test, y_test)))"
   ]
  },
  {
   "cell_type": "code",
   "execution_count": null,
   "metadata": {
    "collapsed": true
   },
   "outputs": [],
   "source": []
  },
  {
   "cell_type": "code",
   "execution_count": null,
   "metadata": {
    "collapsed": true
   },
   "outputs": [],
   "source": []
  }
 ],
 "metadata": {
  "kernelspec": {
   "display_name": "Python 3",
   "language": "python",
   "name": "python3"
  },
  "language_info": {
   "codemirror_mode": {
    "name": "ipython",
    "version": 3
   },
   "file_extension": ".py",
   "mimetype": "text/x-python",
   "name": "python",
   "nbconvert_exporter": "python",
   "pygments_lexer": "ipython3",
   "version": "3.5.1"
  }
 },
 "nbformat": 4,
 "nbformat_minor": 0
}
