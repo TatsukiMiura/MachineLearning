{
 "cells": [
  {
   "cell_type": "code",
   "execution_count": 1,
   "metadata": {
    "collapsed": true
   },
   "outputs": [],
   "source": [
    "from sklearn.linear_model import Perceptron\n",
    "import numpy as np\n",
    "from sklearn.datasets import fetch_mldata, load_svmlight_file, load_svmlight_files, make_classification\n",
    "from sklearn.preprocessing import scale\n",
    "from sklearn.model_selection import GridSearchCV, train_test_split\n",
    "from scipy import sparse"
   ]
  },
  {
   "cell_type": "code",
   "execution_count": null,
   "metadata": {
    "collapsed": false,
    "scrolled": true
   },
   "outputs": [],
   "source": [
    "dataset = fetch_mldata('splice')\n",
    "X = scale(dataset.data)\n",
    "y = dataset.target\n",
    "\n",
    "X_train, X_test, y_train, y_test = train_test_split(X, y, test_size=0.3, random_state=0)\n",
    "\n",
    "iter = 5\n",
    "result = np.array([])\n",
    "\n",
    "for i in range(iter):\n",
    "    estimator = GridSearchCV(\n",
    "        estimator = Perceptron(n_iter=5, shuffle=True, random_state=i),\n",
    "        param_grid = {'eta0': [0.5, 0.55, 0.6, 0.65, 0.7, 0.75, 0.8, 0.85, 0.9, 0.95]},\n",
    "        cv = 5,\n",
    "        verbose = 1\n",
    "    )\n",
    "    \n",
    "    estimator.fit(X_train, y_train)\n",
    "    score = estimator.score(X_test, y_test)\n",
    "    \n",
    "    print('the best parameter: ', estimator.best_params_)\n",
    "    print('score: {0:.4f}'.format(score))\n",
    "    result = np.append(result, score)\n",
    "    \n",
    "print('average_score: {0:.4f}'.format(result.mean()))\n",
    "print('std_score: {0:.4f}'.format(result.std()))"
   ]
  },
  {
   "cell_type": "code",
   "execution_count": null,
   "metadata": {
    "collapsed": false
   },
   "outputs": [],
   "source": [
    "dataset = fetch_mldata('svmguide3')\n",
    "X = scale(dataset.data)\n",
    "y = dataset.target\n",
    "\n",
    "X_train, X_test, y_train, y_test = train_test_split(X, y, test_size=0.3, random_state=0)\n",
    "\n",
    "iter = 5\n",
    "result = np.array([])\n",
    "\n",
    "for i in range(iter):\n",
    "    estimator = GridSearchCV(\n",
    "        estimator = Perceptron(n_iter=5, shuffle=True, random_state=i),\n",
    "        param_grid = {'eta0': [0.5, 0.55, 0.6, 0.65, 0.7, 0.75, 0.8, 0.85, 0.9, 0.95]},\n",
    "        cv = 5,\n",
    "        verbose = 1\n",
    "    )\n",
    "    \n",
    "    estimator.fit(X_train, y_train)\n",
    "    score = estimator.score(X_test, y_test)\n",
    "    \n",
    "    print('the best parameter: ', estimator.best_params_)\n",
    "    print('score: {0:.4f}'.format(score))\n",
    "    result = np.append(result, score)\n",
    "    \n",
    "print('average_score: {0:.4f}'.format(result.mean()))\n",
    "print('std_score: {0:.4f}'.format(result.std()))"
   ]
  },
  {
   "cell_type": "code",
   "execution_count": null,
   "metadata": {
    "collapsed": false
   },
   "outputs": [],
   "source": [
    "dataset = fetch_mldata('usps')\n",
    "X = scale(dataset.data)\n",
    "y = dataset.target\n",
    "\n",
    "X_train, X_test, y_train, y_test = train_test_split(X, y, test_size=0.3, random_state=0)\n",
    "\n",
    "iter = 5\n",
    "result = np.array([])\n",
    "\n",
    "for i in range(iter):\n",
    "    estimator = GridSearchCV(\n",
    "        estimator = Perceptron(n_iter=5, shuffle=True, random_state=i),\n",
    "        param_grid = {'eta0': [0.5, 0.55, 0.6, 0.65, 0.7, 0.75, 0.8, 0.85, 0.9, 0.95]},\n",
    "        cv = 5,\n",
    "        verbose = 1\n",
    "    )\n",
    "    \n",
    "    estimator.fit(X_train, y_train)\n",
    "    score = estimator.score(X_test, y_test)\n",
    "    \n",
    "    print('the best parameter: ', estimator.best_params_)\n",
    "    print('score: {0:.4f}'.format(score))\n",
    "    result = np.append(result, score)\n",
    "    \n",
    "print('average_score: {0:.4f}'.format(result.mean()))\n",
    "print('std_score: {0:.4f}'.format(result.std()))"
   ]
  },
  {
   "cell_type": "code",
   "execution_count": null,
   "metadata": {
    "collapsed": false
   },
   "outputs": [],
   "source": [
    "dataset = fetch_mldata('ijcnn1')\n",
    "X = scale(dataset.data)\n",
    "y = dataset.target\n",
    "\n",
    "X_train, X_test, y_train, y_test = train_test_split(X, y, test_size=0.3, random_state=0)\n",
    "\n",
    "iter = 5\n",
    "result = np.array([])\n",
    "\n",
    "for i in range(iter):\n",
    "    estimator = GridSearchCV(\n",
    "        estimator = Perceptron(n_iter=5, shuffle=True, random_state=i),\n",
    "        param_grid = {'eta0': [0.5, 0.55, 0.6, 0.65, 0.7, 0.75, 0.8, 0.85, 0.9, 0.95]},\n",
    "        cv = 5,\n",
    "        verbose = 1\n",
    "    )\n",
    "    \n",
    "    estimator.fit(X_train, y_train)\n",
    "    score = estimator.score(X_test, y_test)\n",
    "    \n",
    "    print('the best parameter: ', estimator.best_params_)\n",
    "    print('score: {0:.4f}'.format(score))\n",
    "    result = np.append(result, score)\n",
    "    \n",
    "print('average_score: {0:.4f}'.format(result.mean()))\n",
    "print('std_score: {0:.4f}'.format(result.std()))"
   ]
  },
  {
   "cell_type": "code",
   "execution_count": 2,
   "metadata": {
    "collapsed": false
   },
   "outputs": [
    {
     "name": "stdout",
     "output_type": "stream",
     "text": [
      "Fitting 5 folds for each of 10 candidates, totalling 50 fits\n",
      "the best parameter:  {'eta0': 0.5}\n",
      "score: 0.1951\n",
      "Fitting 5 folds for each of 10 candidates, totalling 50 fits\n"
     ]
    },
    {
     "name": "stderr",
     "output_type": "stream",
     "text": [
      "[Parallel(n_jobs=1)]: Done  50 out of  50 | elapsed:    0.0s finished\n",
      "[Parallel(n_jobs=1)]: Done  50 out of  50 | elapsed:    0.1s finished\n"
     ]
    },
    {
     "name": "stdout",
     "output_type": "stream",
     "text": [
      "the best parameter:  {'eta0': 0.5}\n",
      "score: 0.1951\n",
      "Fitting 5 folds for each of 10 candidates, totalling 50 fits\n",
      "the best parameter:  {'eta0': 0.5}\n",
      "score: 0.2439\n",
      "Fitting 5 folds for each of 10 candidates, totalling 50 fits\n"
     ]
    },
    {
     "name": "stderr",
     "output_type": "stream",
     "text": [
      "[Parallel(n_jobs=1)]: Done  50 out of  50 | elapsed:    0.1s finished\n",
      "[Parallel(n_jobs=1)]: Done  50 out of  50 | elapsed:    0.0s finished\n"
     ]
    },
    {
     "name": "stdout",
     "output_type": "stream",
     "text": [
      "the best parameter:  {'eta0': 0.5}\n",
      "score: 0.3171\n",
      "Fitting 5 folds for each of 10 candidates, totalling 50 fits\n",
      "the best parameter:  {'eta0': 0.5}\n",
      "score: 0.2927\n",
      "average_score: 0.2488\n",
      "std_score: 0.0497\n"
     ]
    },
    {
     "name": "stderr",
     "output_type": "stream",
     "text": [
      "[Parallel(n_jobs=1)]: Done  50 out of  50 | elapsed:    0.0s finished\n"
     ]
    }
   ],
   "source": [
    "X_train, y_train, X_test, y_test = load_svmlight_files(('datasets/svmguide3', 'datasets/svmguide3.t'))\n",
    "X_train = scale(X_train.todense())\n",
    "X_test = scale(X_test.todense())\n",
    "\n",
    "iter = 5\n",
    "result = np.array([])\n",
    "\n",
    "for i in range(iter):\n",
    "    estimator = GridSearchCV(\n",
    "        estimator = Perceptron(n_iter=5, shuffle=True, random_state=i),\n",
    "        param_grid = {'eta0': [0.5, 0.55, 0.6, 0.65, 0.7, 0.75, 0.8, 0.85, 0.9, 0.95]},\n",
    "        cv = 5,\n",
    "        verbose = 1\n",
    "    )\n",
    "    \n",
    "    estimator.fit(X_train, y_train)\n",
    "    score = estimator.score(X_test, y_test)\n",
    "    \n",
    "    print('the best parameter: ', estimator.best_params_)\n",
    "    print('score: {0:.4f}'.format(score))\n",
    "    result = np.append(result, score)\n",
    "    \n",
    "print('average_score: {0:.4f}'.format(result.mean()))\n",
    "print('std_score: {0:.4f}'.format(result.std()))"
   ]
  },
  {
   "cell_type": "code",
   "execution_count": null,
   "metadata": {
    "collapsed": true
   },
   "outputs": [],
   "source": [
    "X, y = load_svmlight_file('datasets/mushrooms')\n",
    "X = scale(X.todense())\n",
    "y = np.array([1 if i == 2 else -1 for i in y])\n",
    "\n",
    "X_train, X_test, y_train, y_test = train_test_split(X, y, test_size=0.3, random_state=0)\n",
    "\n",
    "iter = 5\n",
    "result = np.array([])\n",
    "\n",
    "for i in range(iter):\n",
    "    estimator = GridSearchCV(\n",
    "        estimator = Perceptron(n_iter=5, shuffle=True, random_state=i),\n",
    "        param_grid = {'eta0': [0.5, 0.55, 0.6, 0.65, 0.7, 0.75, 0.8, 0.85, 0.9, 0.95]},\n",
    "        cv = 5,\n",
    "        verbose = 1\n",
    "    )\n",
    "    \n",
    "    estimator.fit(X_train, y_train)\n",
    "    score = estimator.score(X_test, y_test)\n",
    "    \n",
    "    print('the best parameter: ', estimator.best_params_)\n",
    "    print('score: {0:.4f}'.format(score))\n",
    "    result = np.append(result, score)\n",
    "    \n",
    "print('average_score: {0:.4f}'.format(result.mean()))\n",
    "print('std_score: {0:.4f}'.format(result.std()))"
   ]
  }
 ],
 "metadata": {
  "kernelspec": {
   "display_name": "Python 3",
   "language": "python",
   "name": "python3"
  },
  "language_info": {
   "codemirror_mode": {
    "name": "ipython",
    "version": 3
   },
   "file_extension": ".py",
   "mimetype": "text/x-python",
   "name": "python",
   "nbconvert_exporter": "python",
   "pygments_lexer": "ipython3",
   "version": "3.5.1"
  }
 },
 "nbformat": 4,
 "nbformat_minor": 0
}
