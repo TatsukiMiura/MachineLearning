{
 "cells": [
  {
   "cell_type": "code",
   "execution_count": 1,
   "metadata": {
    "collapsed": true
   },
   "outputs": [],
   "source": [
    "from sklearn.linear_model import PassiveAggressiveClassifier\n",
    "import numpy as np\n",
    "from sklearn.datasets import fetch_mldata\n",
    "from sklearn.preprocessing import scale\n",
    "from sklearn.model_selection import GridSearchCV, train_test_split"
   ]
  },
  {
   "cell_type": "code",
   "execution_count": 2,
   "metadata": {
    "collapsed": false
   },
   "outputs": [
    {
     "name": "stdout",
     "output_type": "stream",
     "text": [
      "Fitting 5 folds for each of 9 candidates, totalling 45 fits\n",
      "the best parameter:  {'C': 0.0625}\n",
      "score: 0.8185\n",
      "Fitting 5 folds for each of 9 candidates, totalling 45 fits\n"
     ]
    },
    {
     "name": "stderr",
     "output_type": "stream",
     "text": [
      "[Parallel(n_jobs=1)]: Done  45 out of  45 | elapsed:    0.1s finished\n",
      "[Parallel(n_jobs=1)]: Done  45 out of  45 | elapsed:    0.1s finished\n"
     ]
    },
    {
     "name": "stdout",
     "output_type": "stream",
     "text": [
      "the best parameter:  {'C': 0.0625}\n",
      "score: 0.7629\n",
      "Fitting 5 folds for each of 9 candidates, totalling 45 fits\n",
      "the best parameter:  {'C': 0.0625}\n",
      "score: 0.8111\n",
      "Fitting 5 folds for each of 9 candidates, totalling 45 fits\n"
     ]
    },
    {
     "name": "stderr",
     "output_type": "stream",
     "text": [
      "[Parallel(n_jobs=1)]: Done  45 out of  45 | elapsed:    0.0s finished\n",
      "[Parallel(n_jobs=1)]: Done  45 out of  45 | elapsed:    0.1s finished\n"
     ]
    },
    {
     "name": "stdout",
     "output_type": "stream",
     "text": [
      "the best parameter:  {'C': 0.0625}\n",
      "score: 0.8048\n",
      "Fitting 5 folds for each of 9 candidates, totalling 45 fits\n",
      "the best parameter:  {'C': 0.0625}\n",
      "score: 0.7775\n",
      "average_score: 0.7950\n",
      "std_score: 0.0212\n"
     ]
    },
    {
     "name": "stderr",
     "output_type": "stream",
     "text": [
      "[Parallel(n_jobs=1)]: Done  45 out of  45 | elapsed:    0.0s finished\n"
     ]
    }
   ],
   "source": [
    "dataset = fetch_mldata('splice')\n",
    "X = scale(dataset.data)\n",
    "y = dataset.target\n",
    "\n",
    "X_train, X_test, y_train, y_test = train_test_split(X, y, test_size=0.3, random_state=0)\n",
    "\n",
    "iter = 5\n",
    "result = np.array([])\n",
    "\n",
    "for i in range(iter):\n",
    "    estimator = GridSearchCV(\n",
    "        estimator = PassiveAggressiveClassifier(loss='squared_hinge', n_iter=5, shuffle=True, random_state=i),\n",
    "        param_grid = {'C': [2**-4, 2**-3, 2**-2, 2**-1, 1, 2, 4, 8, 16]},\n",
    "        cv = 5,\n",
    "        verbose = 1\n",
    "    )\n",
    "    \n",
    "    estimator.fit(X_train, y_train)\n",
    "    score = estimator.score(X_test, y_test)\n",
    "    \n",
    "    print('the best parameter: ', estimator.best_params_)\n",
    "    print('score: {0:.4f}'.format(score))\n",
    "    result = np.append(result, score)\n",
    "    \n",
    "print('average_score: {0:.4f}'.format(result.mean()))\n",
    "print('std_score: {0:.4f}'.format(result.std()))"
   ]
  },
  {
   "cell_type": "code",
   "execution_count": 3,
   "metadata": {
    "collapsed": false
   },
   "outputs": [
    {
     "name": "stdout",
     "output_type": "stream",
     "text": [
      "Fitting 5 folds for each of 9 candidates, totalling 45 fits\n"
     ]
    },
    {
     "name": "stderr",
     "output_type": "stream",
     "text": [
      "[Parallel(n_jobs=1)]: Done  45 out of  45 | elapsed:    0.0s finished\n",
      "[Parallel(n_jobs=1)]: Done  45 out of  45 | elapsed:    0.0s finished\n"
     ]
    },
    {
     "name": "stdout",
     "output_type": "stream",
     "text": [
      "the best parameter:  {'C': 0.0625}\n",
      "score: 0.8083\n",
      "Fitting 5 folds for each of 9 candidates, totalling 45 fits\n",
      "the best parameter:  {'C': 0.0625}\n",
      "score: 0.7746\n",
      "Fitting 5 folds for each of 9 candidates, totalling 45 fits\n"
     ]
    },
    {
     "name": "stderr",
     "output_type": "stream",
     "text": [
      "[Parallel(n_jobs=1)]: Done  45 out of  45 | elapsed:    0.0s finished\n",
      "[Parallel(n_jobs=1)]: Done  45 out of  45 | elapsed:    0.0s finished\n"
     ]
    },
    {
     "name": "stdout",
     "output_type": "stream",
     "text": [
      "the best parameter:  {'C': 0.0625}\n",
      "score: 0.7098\n",
      "Fitting 5 folds for each of 9 candidates, totalling 45 fits\n",
      "the best parameter:  {'C': 0.0625}\n",
      "score: 0.7798\n",
      "Fitting 5 folds for each of 9 candidates, totalling 45 fits\n",
      "the best parameter:  {'C': 0.0625}\n",
      "score: 0.7461\n",
      "average_score: 0.7637\n",
      "std_score: 0.0334\n"
     ]
    },
    {
     "name": "stderr",
     "output_type": "stream",
     "text": [
      "[Parallel(n_jobs=1)]: Done  45 out of  45 | elapsed:    0.0s finished\n"
     ]
    }
   ],
   "source": [
    "dataset = fetch_mldata('svmguide3')\n",
    "X = scale(dataset.data)\n",
    "y = dataset.target\n",
    "\n",
    "X_train, X_test, y_train, y_test = train_test_split(X, y, test_size=0.3, random_state=0)\n",
    "\n",
    "iter = 5\n",
    "result = np.array([])\n",
    "\n",
    "for i in range(iter):\n",
    "    estimator = GridSearchCV(\n",
    "        estimator = PassiveAggressiveClassifier(loss='squared_hinge', n_iter=5, shuffle=True, random_state=i),\n",
    "        param_grid = {'C': [2**-4, 2**-3, 2**-2, 2**-1, 1, 2, 4, 8, 16]},\n",
    "        cv = 5,\n",
    "        verbose = 1\n",
    "    )\n",
    "    \n",
    "    estimator.fit(X_train, y_train)\n",
    "    score = estimator.score(X_test, y_test)\n",
    "    \n",
    "    print('the best parameter: ', estimator.best_params_)\n",
    "    print('score: {0:.4f}'.format(score))\n",
    "    result = np.append(result, score)\n",
    "    \n",
    "print('average_score: {0:.4f}'.format(result.mean()))\n",
    "print('std_score: {0:.4f}'.format(result.std()))"
   ]
  },
  {
   "cell_type": "code",
   "execution_count": 4,
   "metadata": {
    "collapsed": false,
    "scrolled": false
   },
   "outputs": [
    {
     "name": "stdout",
     "output_type": "stream",
     "text": [
      "Fitting 5 folds for each of 9 candidates, totalling 45 fits\n"
     ]
    },
    {
     "name": "stderr",
     "output_type": "stream",
     "text": [
      "[Parallel(n_jobs=1)]: Done  45 out of  45 | elapsed:    1.3s finished\n"
     ]
    },
    {
     "name": "stdout",
     "output_type": "stream",
     "text": [
      "the best parameter:  {'C': 0.0625}\n",
      "score: 0.8839\n",
      "Fitting 5 folds for each of 9 candidates, totalling 45 fits\n"
     ]
    },
    {
     "name": "stderr",
     "output_type": "stream",
     "text": [
      "[Parallel(n_jobs=1)]: Done  45 out of  45 | elapsed:    1.2s finished\n"
     ]
    },
    {
     "name": "stdout",
     "output_type": "stream",
     "text": [
      "the best parameter:  {'C': 0.0625}\n",
      "score: 0.8814\n",
      "Fitting 5 folds for each of 9 candidates, totalling 45 fits\n"
     ]
    },
    {
     "name": "stderr",
     "output_type": "stream",
     "text": [
      "[Parallel(n_jobs=1)]: Done  45 out of  45 | elapsed:    1.6s finished\n"
     ]
    },
    {
     "name": "stdout",
     "output_type": "stream",
     "text": [
      "the best parameter:  {'C': 0.0625}\n",
      "score: 0.9036\n",
      "Fitting 5 folds for each of 9 candidates, totalling 45 fits\n"
     ]
    },
    {
     "name": "stderr",
     "output_type": "stream",
     "text": [
      "[Parallel(n_jobs=1)]: Done  45 out of  45 | elapsed:    1.6s finished\n"
     ]
    },
    {
     "name": "stdout",
     "output_type": "stream",
     "text": [
      "the best parameter:  {'C': 0.0625}\n",
      "score: 0.8649\n",
      "Fitting 5 folds for each of 9 candidates, totalling 45 fits\n",
      "the best parameter:  {'C': 0.0625}\n",
      "score: 0.8577\n",
      "average_score: 0.8783\n",
      "std_score: 0.0160\n"
     ]
    },
    {
     "name": "stderr",
     "output_type": "stream",
     "text": [
      "[Parallel(n_jobs=1)]: Done  45 out of  45 | elapsed:    1.3s finished\n"
     ]
    }
   ],
   "source": [
    "dataset = fetch_mldata('usps')\n",
    "X = scale(dataset.data)\n",
    "y = dataset.target\n",
    "y_bin = np.array([1 if i >= 5  else -1 for i in y])\n",
    "\n",
    "X_train, X_test, y_train, y_test = train_test_split(X, y_bin, test_size=0.3, random_state=0)\n",
    "\n",
    "iter = 5\n",
    "result = np.array([])\n",
    "\n",
    "for i in range(iter):\n",
    "    estimator = GridSearchCV(\n",
    "        estimator = PassiveAggressiveClassifier(loss='squared_hinge', n_iter=5, shuffle=True, random_state=i),\n",
    "        param_grid = {'C': [2**-4, 2**-3, 2**-2, 2**-1, 1, 2, 4, 8, 16]},\n",
    "        cv = 5,\n",
    "        verbose = 1\n",
    "    )\n",
    "    \n",
    "    estimator.fit(X_train, y_train)\n",
    "    score = estimator.score(X_test, y_test)\n",
    "    \n",
    "    print('the best parameter: ', estimator.best_params_)\n",
    "    print('score: {0:.4f}'.format(score))\n",
    "    result = np.append(result, score)\n",
    "    \n",
    "print('average_score: {0:.4f}'.format(result.mean()))\n",
    "print('std_score: {0:.4f}'.format(result.std()))"
   ]
  },
  {
   "cell_type": "code",
   "execution_count": 5,
   "metadata": {
    "collapsed": false,
    "scrolled": true
   },
   "outputs": [
    {
     "name": "stdout",
     "output_type": "stream",
     "text": [
      "Fitting 5 folds for each of 9 candidates, totalling 45 fits\n"
     ]
    },
    {
     "name": "stderr",
     "output_type": "stream",
     "text": [
      "[Parallel(n_jobs=1)]: Done  45 out of  45 | elapsed:    5.2s finished\n"
     ]
    },
    {
     "name": "stdout",
     "output_type": "stream",
     "text": [
      "the best parameter:  {'C': 0.0625}\n",
      "score: 0.9066\n",
      "Fitting 5 folds for each of 9 candidates, totalling 45 fits\n"
     ]
    },
    {
     "name": "stderr",
     "output_type": "stream",
     "text": [
      "[Parallel(n_jobs=1)]: Done  45 out of  45 | elapsed:    4.8s finished\n"
     ]
    },
    {
     "name": "stdout",
     "output_type": "stream",
     "text": [
      "the best parameter:  {'C': 0.0625}\n",
      "score: 0.9242\n",
      "Fitting 5 folds for each of 9 candidates, totalling 45 fits\n"
     ]
    },
    {
     "name": "stderr",
     "output_type": "stream",
     "text": [
      "[Parallel(n_jobs=1)]: Done  45 out of  45 | elapsed:    5.2s finished\n"
     ]
    },
    {
     "name": "stdout",
     "output_type": "stream",
     "text": [
      "the best parameter:  {'C': 0.0625}\n",
      "score: 0.9076\n",
      "Fitting 5 folds for each of 9 candidates, totalling 45 fits\n"
     ]
    },
    {
     "name": "stderr",
     "output_type": "stream",
     "text": [
      "[Parallel(n_jobs=1)]: Done  45 out of  45 | elapsed:    5.2s finished\n"
     ]
    },
    {
     "name": "stdout",
     "output_type": "stream",
     "text": [
      "the best parameter:  {'C': 0.0625}\n",
      "score: 0.9174\n",
      "Fitting 5 folds for each of 9 candidates, totalling 45 fits\n",
      "the best parameter:  {'C': 0.0625}\n",
      "score: 0.9102\n",
      "average_score: 0.9132\n",
      "std_score: 0.0067\n"
     ]
    },
    {
     "name": "stderr",
     "output_type": "stream",
     "text": [
      "[Parallel(n_jobs=1)]: Done  45 out of  45 | elapsed:    4.9s finished\n"
     ]
    }
   ],
   "source": [
    "dataset = fetch_mldata('ijcnn1')\n",
    "X = scale(dataset.data)\n",
    "y = dataset.target\n",
    "\n",
    "X_train, X_test, y_train, y_test = train_test_split(X, y, test_size=0.3, random_state=0)\n",
    "\n",
    "iter = 5\n",
    "result = np.array([])\n",
    "\n",
    "for i in range(iter):\n",
    "    estimator = GridSearchCV(\n",
    "        estimator = PassiveAggressiveClassifier(loss='squared_hinge', n_iter=5, shuffle=True, random_state=i),\n",
    "        param_grid = {'C': [2**-4, 2**-3, 2**-2, 2**-1, 1, 2, 4, 8, 16]},\n",
    "        cv = 5,\n",
    "        verbose = 1\n",
    "    )\n",
    "    \n",
    "    estimator.fit(X_train, y_train)\n",
    "    score = estimator.score(X_test, y_test)\n",
    "    \n",
    "    print('the best parameter: ', estimator.best_params_)\n",
    "    print('score: {0:.4f}'.format(score))\n",
    "    result = np.append(result, score)\n",
    "    \n",
    "print('average_score: {0:.4f}'.format(result.mean()))\n",
    "print('std_score: {0:.4f}'.format(result.std()))"
   ]
  }
 ],
 "metadata": {
  "kernelspec": {
   "display_name": "Python 3",
   "language": "python",
   "name": "python3"
  },
  "language_info": {
   "codemirror_mode": {
    "name": "ipython",
    "version": 3
   },
   "file_extension": ".py",
   "mimetype": "text/x-python",
   "name": "python",
   "nbconvert_exporter": "python",
   "pygments_lexer": "ipython3",
   "version": "3.5.1"
  }
 },
 "nbformat": 4,
 "nbformat_minor": 0
}
