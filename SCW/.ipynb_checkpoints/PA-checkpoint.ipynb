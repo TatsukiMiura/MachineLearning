{
 "cells": [
  {
   "cell_type": "code",
   "execution_count": 1,
   "metadata": {
    "collapsed": true
   },
   "outputs": [],
   "source": [
    "import numpy as np\n",
    "from scipy import sparse\n",
    "from sklearn.linear_model import PassiveAggressiveClassifier\n",
    "from sklearn.datasets import load_svmlight_file, load_svmlight_files, make_classification\n",
    "from sklearn.preprocessing import scale\n",
    "from sklearn.model_selection import train_test_split"
   ]
  },
  {
   "cell_type": "markdown",
   "metadata": {},
   "source": [
    "# PA-I"
   ]
  },
  {
   "cell_type": "code",
   "execution_count": 2,
   "metadata": {
    "collapsed": true
   },
   "outputs": [],
   "source": [
    "def GridSearchPA1(X, Y):\n",
    "    X_train, X_test, Y_train, Y_test = train_test_split(X, Y, test_size=0.3, random_state=0)\n",
    "    \n",
    "    iter = 10\n",
    "    result = np.array([])\n",
    "\n",
    "    for i in range(iter):\n",
    "        bestscore = 0\n",
    "\n",
    "        for C in [2**-4, 2**-3, 2**-2, 2**-1, 1, 2, 4, 8, 16]:\n",
    "            score = PassiveAggressiveClassifier(C, loss='hinge', n_iter=5, shuffle=True, random_state=i).fit(X_train, Y_train).score(X_test, Y_test)\n",
    "\n",
    "            if score > bestscore:\n",
    "                bestscore = score\n",
    "\n",
    "        result = np.append(result, bestscore)\n",
    "        print('bestscore: {0:.4f}'.format(bestscore))\n",
    "        print()      \n",
    "        \n",
    "    print('average_bestscore: {0:.4f}'.format(result.mean()))\n",
    "    print('std_bestscore: {0:.4f}'.format(result.std()))"
   ]
  },
  {
   "cell_type": "code",
   "execution_count": 3,
   "metadata": {
    "collapsed": false
   },
   "outputs": [
    {
     "name": "stdout",
     "output_type": "stream",
     "text": [
      "bestscore: 0.7900\n",
      "\n",
      "bestscore: 0.7700\n",
      "\n",
      "bestscore: 0.7767\n",
      "\n",
      "bestscore: 0.7700\n",
      "\n",
      "bestscore: 0.7700\n",
      "\n",
      "bestscore: 0.7267\n",
      "\n",
      "bestscore: 0.7333\n",
      "\n",
      "bestscore: 0.7467\n",
      "\n",
      "bestscore: 0.7533\n",
      "\n",
      "bestscore: 0.7533\n",
      "\n",
      "average_bestscore: 0.7590\n",
      "std_bestscore: 0.0189\n"
     ]
    }
   ],
   "source": [
    "X, Y = load_svmlight_file('datasets/splice')\n",
    "X = scale(X.todense())\n",
    "\n",
    "GridSearchPA1(X, Y)"
   ]
  },
  {
   "cell_type": "code",
   "execution_count": 4,
   "metadata": {
    "collapsed": false
   },
   "outputs": [
    {
     "name": "stdout",
     "output_type": "stream",
     "text": [
      "bestscore: 0.7962\n",
      "\n",
      "bestscore: 0.8070\n",
      "\n",
      "bestscore: 0.7453\n",
      "\n",
      "bestscore: 0.7775\n",
      "\n",
      "bestscore: 0.7855\n",
      "\n",
      "bestscore: 0.8097\n",
      "\n",
      "bestscore: 0.7641\n",
      "\n",
      "bestscore: 0.8070\n",
      "\n",
      "bestscore: 0.7721\n",
      "\n",
      "bestscore: 0.7936\n",
      "\n",
      "average_bestscore: 0.7858\n",
      "std_bestscore: 0.0200\n"
     ]
    }
   ],
   "source": [
    "X, Y = load_svmlight_file('datasets/svmguide3')\n",
    "X = scale(X.todense())\n",
    "\n",
    "GridSearchPA1(X, Y)"
   ]
  },
  {
   "cell_type": "code",
   "execution_count": 5,
   "metadata": {
    "collapsed": false
   },
   "outputs": [
    {
     "name": "stdout",
     "output_type": "stream",
     "text": [
      "bestscore: 1.0000\n",
      "\n",
      "bestscore: 1.0000\n",
      "\n",
      "bestscore: 1.0000\n",
      "\n",
      "bestscore: 1.0000\n",
      "\n",
      "bestscore: 1.0000\n",
      "\n",
      "bestscore: 1.0000\n",
      "\n",
      "bestscore: 1.0000\n",
      "\n",
      "bestscore: 1.0000\n",
      "\n",
      "bestscore: 1.0000\n",
      "\n",
      "bestscore: 1.0000\n",
      "\n",
      "average_bestscore: 1.0000\n",
      "std_bestscore: 0.0000\n"
     ]
    }
   ],
   "source": [
    "X, Y = load_svmlight_file('datasets/mushrooms')\n",
    "X = scale(X.todense())\n",
    "Y = np.array([1 if i == 2 else -1 for i in Y])\n",
    "\n",
    "GridSearchPA1(X, Y)"
   ]
  },
  {
   "cell_type": "code",
   "execution_count": 6,
   "metadata": {
    "collapsed": false
   },
   "outputs": [
    {
     "name": "stdout",
     "output_type": "stream",
     "text": [
      "bestscore: 0.9558\n",
      "\n",
      "bestscore: 0.9450\n",
      "\n",
      "bestscore: 0.9592\n",
      "\n",
      "bestscore: 0.9525\n",
      "\n",
      "bestscore: 0.9425\n",
      "\n",
      "bestscore: 0.9467\n",
      "\n",
      "bestscore: 0.9633\n",
      "\n",
      "bestscore: 0.9483\n",
      "\n",
      "bestscore: 0.9500\n",
      "\n",
      "bestscore: 0.9417\n",
      "\n",
      "average_bestscore: 0.9505\n",
      "std_bestscore: 0.0068\n"
     ]
    }
   ],
   "source": [
    "X, Y = make_classification(n_samples=4000, n_features=65, n_informative=65, n_redundant=0, n_classes=2, n_clusters_per_class=1, \n",
    "                          weights=None, flip_y=0, shuffle=True, random_state=0)\n",
    "X = scale(X)\n",
    "Y = np.array([1 if i == 1 else -1 for i in Y])\n",
    "\n",
    "GridSearchPA1(X, Y)"
   ]
  },
  {
   "cell_type": "markdown",
   "metadata": {},
   "source": [
    "# PA-II"
   ]
  },
  {
   "cell_type": "code",
   "execution_count": 7,
   "metadata": {
    "collapsed": true
   },
   "outputs": [],
   "source": [
    "def GridSearchPA2(X, Y):\n",
    "    X_train, X_test, Y_train, Y_test = train_test_split(X, Y, test_size=0.3, random_state=0)\n",
    "    \n",
    "    iter = 10\n",
    "    result = np.array([])\n",
    "\n",
    "    for i in range(iter):\n",
    "        bestscore = 0\n",
    "\n",
    "        for C in [2**-4, 2**-3, 2**-2, 2**-1, 1, 2, 4, 8, 16]:\n",
    "            score = PassiveAggressiveClassifier(C, loss='squared_hinge', n_iter=5, shuffle=True, random_state=i).fit(X_train, Y_train).score(X_test, Y_test)\n",
    "\n",
    "            if score > bestscore:\n",
    "                bestscore = score\n",
    "\n",
    "        result = np.append(result, bestscore)\n",
    "        print('bestscore: {0:.4f}'.format(bestscore))\n",
    "        print()      \n",
    "        \n",
    "    print('average_bestscore: {0:.4f}'.format(result.mean()))\n",
    "    print('std_bestscore: {0:.4f}'.format(result.std()))"
   ]
  },
  {
   "cell_type": "code",
   "execution_count": 8,
   "metadata": {
    "collapsed": false
   },
   "outputs": [
    {
     "name": "stdout",
     "output_type": "stream",
     "text": [
      "bestscore: 0.7833\n",
      "\n",
      "bestscore: 0.7700\n",
      "\n",
      "bestscore: 0.7833\n",
      "\n",
      "bestscore: 0.7700\n",
      "\n",
      "bestscore: 0.7767\n",
      "\n",
      "bestscore: 0.7233\n",
      "\n",
      "bestscore: 0.7400\n",
      "\n",
      "bestscore: 0.7600\n",
      "\n",
      "bestscore: 0.7667\n",
      "\n",
      "bestscore: 0.7733\n",
      "\n",
      "average_bestscore: 0.7647\n",
      "std_bestscore: 0.0182\n"
     ]
    }
   ],
   "source": [
    "X, Y = load_svmlight_file('datasets/splice')\n",
    "X = scale(X.todense())\n",
    "\n",
    "GridSearchPA2(X, Y)"
   ]
  },
  {
   "cell_type": "code",
   "execution_count": 9,
   "metadata": {
    "collapsed": false
   },
   "outputs": [
    {
     "name": "stdout",
     "output_type": "stream",
     "text": [
      "bestscore: 0.7721\n",
      "\n",
      "bestscore: 0.8016\n",
      "\n",
      "bestscore: 0.6917\n",
      "\n",
      "bestscore: 0.7721\n",
      "\n",
      "bestscore: 0.7239\n",
      "\n",
      "bestscore: 0.7962\n",
      "\n",
      "bestscore: 0.7614\n",
      "\n",
      "bestscore: 0.8070\n",
      "\n",
      "bestscore: 0.7721\n",
      "\n",
      "bestscore: 0.7721\n",
      "\n",
      "average_bestscore: 0.7670\n",
      "std_bestscore: 0.0336\n"
     ]
    }
   ],
   "source": [
    "X, Y = load_svmlight_file('datasets/svmguide3')\n",
    "X = scale(X.todense())\n",
    "\n",
    "GridSearchPA2(X, Y)"
   ]
  },
  {
   "cell_type": "code",
   "execution_count": 10,
   "metadata": {
    "collapsed": false
   },
   "outputs": [
    {
     "name": "stdout",
     "output_type": "stream",
     "text": [
      "bestscore: 1.0000\n",
      "\n",
      "bestscore: 1.0000\n",
      "\n",
      "bestscore: 1.0000\n",
      "\n",
      "bestscore: 1.0000\n",
      "\n",
      "bestscore: 1.0000\n",
      "\n",
      "bestscore: 1.0000\n",
      "\n",
      "bestscore: 1.0000\n",
      "\n",
      "bestscore: 1.0000\n",
      "\n",
      "bestscore: 1.0000\n",
      "\n",
      "bestscore: 1.0000\n",
      "\n",
      "average_bestscore: 1.0000\n",
      "std_bestscore: 0.0000\n"
     ]
    }
   ],
   "source": [
    "X, Y = load_svmlight_file('datasets/mushrooms')\n",
    "X = scale(X.todense())\n",
    "Y = np.array([1 if i == 2 else -1 for i in Y])\n",
    "\n",
    "GridSearchPA2(X, Y)"
   ]
  },
  {
   "cell_type": "code",
   "execution_count": 11,
   "metadata": {
    "collapsed": false
   },
   "outputs": [
    {
     "name": "stdout",
     "output_type": "stream",
     "text": [
      "bestscore: 0.9558\n",
      "\n",
      "bestscore: 0.9483\n",
      "\n",
      "bestscore: 0.9600\n",
      "\n",
      "bestscore: 0.9525\n",
      "\n",
      "bestscore: 0.9450\n",
      "\n",
      "bestscore: 0.9483\n",
      "\n",
      "bestscore: 0.9633\n",
      "\n",
      "bestscore: 0.9475\n",
      "\n",
      "bestscore: 0.9517\n",
      "\n",
      "bestscore: 0.9400\n",
      "\n",
      "average_bestscore: 0.9512\n",
      "std_bestscore: 0.0066\n"
     ]
    }
   ],
   "source": [
    "X, Y = make_classification(n_samples=4000, n_features=65, n_informative=65, n_redundant=0, n_classes=2, n_clusters_per_class=1, \n",
    "                          weights=None, flip_y=0, shuffle=True, random_state=0)\n",
    "X = scale(X)\n",
    "Y = np.array([1 if i == 1 else -1 for i in Y])\n",
    "\n",
    "GridSearchPA2(X, Y)"
   ]
  },
  {
   "cell_type": "code",
   "execution_count": 12,
   "metadata": {
    "collapsed": false
   },
   "outputs": [
    {
     "ename": "NameError",
     "evalue": "name 'GridSearchPA21' is not defined",
     "output_type": "error",
     "traceback": [
      "\u001b[1;31m---------------------------------------------------------------------------\u001b[0m",
      "\u001b[1;31mNameError\u001b[0m                                 Traceback (most recent call last)",
      "\u001b[1;32m<ipython-input-12-bca61d8c0289>\u001b[0m in \u001b[0;36m<module>\u001b[1;34m()\u001b[0m\n\u001b[0;32m      2\u001b[0m \u001b[0mX\u001b[0m \u001b[1;33m=\u001b[0m \u001b[0mscale\u001b[0m\u001b[1;33m(\u001b[0m\u001b[0mX\u001b[0m\u001b[1;33m.\u001b[0m\u001b[0mtodense\u001b[0m\u001b[1;33m(\u001b[0m\u001b[1;33m)\u001b[0m\u001b[1;33m)\u001b[0m\u001b[1;33m\u001b[0m\u001b[0m\n\u001b[0;32m      3\u001b[0m \u001b[1;33m\u001b[0m\u001b[0m\n\u001b[1;32m----> 4\u001b[1;33m \u001b[0mGridSearchPA21\u001b[0m\u001b[1;33m(\u001b[0m\u001b[0mX\u001b[0m\u001b[1;33m,\u001b[0m \u001b[0mY\u001b[0m\u001b[1;33m)\u001b[0m\u001b[1;33m\u001b[0m\u001b[0m\n\u001b[0m",
      "\u001b[1;31mNameError\u001b[0m: name 'GridSearchPA21' is not defined"
     ]
    }
   ],
   "source": [
    "X, Y = load_svmlight_file('datasets/ijcnn1.val')\n",
    "X = scale(X.todense())\n",
    "\n",
    "GridSearchPA2(X, Y)"
   ]
  },
  {
   "cell_type": "code",
   "execution_count": null,
   "metadata": {
    "collapsed": true
   },
   "outputs": [],
   "source": []
  }
 ],
 "metadata": {
  "kernelspec": {
   "display_name": "Python 3",
   "language": "python",
   "name": "python3"
  },
  "language_info": {
   "codemirror_mode": {
    "name": "ipython",
    "version": 3
   },
   "file_extension": ".py",
   "mimetype": "text/x-python",
   "name": "python",
   "nbconvert_exporter": "python",
   "pygments_lexer": "ipython3",
   "version": "3.5.1"
  }
 },
 "nbformat": 4,
 "nbformat_minor": 0
}
