{
 "cells": [
  {
   "cell_type": "code",
   "execution_count": 1,
   "metadata": {
    "collapsed": true
   },
   "outputs": [],
   "source": [
    "import numpy as np\n",
    "from scipy import sparse\n",
    "from sklearn.linear_model import PassiveAggressiveClassifier\n",
    "from sklearn.datasets import load_svmlight_file, load_svmlight_files, make_classification\n",
    "from sklearn.preprocessing import scale\n",
    "from sklearn.model_selection import GridSearchCV, train_test_split"
   ]
  },
  {
   "cell_type": "code",
   "execution_count": 2,
   "metadata": {
    "collapsed": false
   },
   "outputs": [
    {
     "name": "stdout",
     "output_type": "stream",
     "text": [
      "Fitting 5 folds for each of 9 candidates, totalling 45 fits\n",
      "the best parameter:  {'C': 0.0625}\n",
      "score: 0.7900\n",
      "Fitting 5 folds for each of 9 candidates, totalling 45 fits\n"
     ]
    },
    {
     "name": "stderr",
     "output_type": "stream",
     "text": [
      "[Parallel(n_jobs=1)]: Done  45 out of  45 | elapsed:    0.0s finished\n",
      "[Parallel(n_jobs=1)]: Done  45 out of  45 | elapsed:    0.0s finished\n"
     ]
    },
    {
     "name": "stdout",
     "output_type": "stream",
     "text": [
      "the best parameter:  {'C': 0.0625}\n",
      "score: 0.7667\n",
      "Fitting 5 folds for each of 9 candidates, totalling 45 fits\n",
      "the best parameter:  {'C': 0.0625}\n",
      "score: 0.7767\n",
      "Fitting 5 folds for each of 9 candidates, totalling 45 fits\n"
     ]
    },
    {
     "name": "stderr",
     "output_type": "stream",
     "text": [
      "[Parallel(n_jobs=1)]: Done  45 out of  45 | elapsed:    0.0s finished\n",
      "[Parallel(n_jobs=1)]: Done  45 out of  45 | elapsed:    0.0s finished\n"
     ]
    },
    {
     "name": "stdout",
     "output_type": "stream",
     "text": [
      "the best parameter:  {'C': 0.0625}\n",
      "score: 0.7667\n",
      "Fitting 5 folds for each of 9 candidates, totalling 45 fits\n",
      "the best parameter:  {'C': 0.0625}\n",
      "score: 0.7700\n",
      "average_score: 0.7740\n",
      "std_score: 0.0088\n"
     ]
    },
    {
     "name": "stderr",
     "output_type": "stream",
     "text": [
      "[Parallel(n_jobs=1)]: Done  45 out of  45 | elapsed:    0.0s finished\n"
     ]
    }
   ],
   "source": [
    "X, y = load_svmlight_file('datasets/splice')\n",
    "X = scale(X.todense())\n",
    "\n",
    "X_train, X_test, y_train, y_test = train_test_split(X, y, test_size=0.3, random_state=0)\n",
    "\n",
    "iter = 5\n",
    "result = np.array([])\n",
    "\n",
    "for i in range(iter):\n",
    "    estimator = GridSearchCV(\n",
    "        estimator = PassiveAggressiveClassifier(loss='hinge', n_iter=5, shuffle=True, random_state=i),\n",
    "        param_grid = {'C': [2**-4, 2**-3, 2**-2, 2**-1, 1, 2, 4, 8, 16]},\n",
    "        cv = 5,\n",
    "        verbose = 1\n",
    "    )\n",
    "    \n",
    "    estimator.fit(X_train, y_train)\n",
    "    score = estimator.score(X_test, y_test)\n",
    "    \n",
    "    print('the best parameter: ', estimator.best_params_)\n",
    "    print('score: {0:.4f}'.format(score))\n",
    "    result = np.append(result, score)\n",
    "    \n",
    "print('average_score: {0:.4f}'.format(result.mean()))\n",
    "print('std_score: {0:.4f}'.format(result.std()))"
   ]
  },
  {
   "cell_type": "code",
   "execution_count": 3,
   "metadata": {
    "collapsed": false
   },
   "outputs": [
    {
     "name": "stdout",
     "output_type": "stream",
     "text": [
      "Fitting 5 folds for each of 9 candidates, totalling 45 fits\n"
     ]
    },
    {
     "name": "stderr",
     "output_type": "stream",
     "text": [
      "[Parallel(n_jobs=1)]: Done  45 out of  45 | elapsed:    0.0s finished\n"
     ]
    },
    {
     "name": "stdout",
     "output_type": "stream",
     "text": [
      "the best parameter:  {'C': 0.0625}\n",
      "score: 0.7962\n",
      "Fitting 5 folds for each of 9 candidates, totalling 45 fits\n",
      "the best parameter:  {'C': 0.5}\n",
      "score: 0.7962\n",
      "Fitting 5 folds for each of 9 candidates, totalling 45 fits\n"
     ]
    },
    {
     "name": "stderr",
     "output_type": "stream",
     "text": [
      "[Parallel(n_jobs=1)]: Done  45 out of  45 | elapsed:    0.0s finished\n",
      "[Parallel(n_jobs=1)]: Done  45 out of  45 | elapsed:    0.0s finished\n"
     ]
    },
    {
     "name": "stdout",
     "output_type": "stream",
     "text": [
      "the best parameter:  {'C': 0.0625}\n",
      "score: 0.7453\n",
      "Fitting 5 folds for each of 9 candidates, totalling 45 fits\n"
     ]
    },
    {
     "name": "stderr",
     "output_type": "stream",
     "text": [
      "[Parallel(n_jobs=1)]: Done  45 out of  45 | elapsed:    0.0s finished\n"
     ]
    },
    {
     "name": "stdout",
     "output_type": "stream",
     "text": [
      "the best parameter:  {'C': 0.0625}\n",
      "score: 0.7668\n",
      "Fitting 5 folds for each of 9 candidates, totalling 45 fits\n",
      "the best parameter:  {'C': 0.0625}\n",
      "score: 0.7855\n",
      "average_score: 0.7780\n",
      "std_score: 0.0196\n"
     ]
    },
    {
     "name": "stderr",
     "output_type": "stream",
     "text": [
      "[Parallel(n_jobs=1)]: Done  45 out of  45 | elapsed:    0.0s finished\n"
     ]
    }
   ],
   "source": [
    "X, y = load_svmlight_file('datasets/svmguide3')\n",
    "X = scale(X.todense())\n",
    "\n",
    "X_train, X_test, y_train, y_test = train_test_split(X, y, test_size=0.3, random_state=0)\n",
    "\n",
    "iter = 5\n",
    "result = np.array([])\n",
    "\n",
    "for i in range(iter):\n",
    "    estimator = GridSearchCV(\n",
    "        estimator = PassiveAggressiveClassifier(loss='hinge', n_iter=5, shuffle=True, random_state=i),\n",
    "        param_grid = {'C': [2**-4, 2**-3, 2**-2, 2**-1, 1, 2, 4, 8, 16]},\n",
    "        cv = 5,\n",
    "        verbose = 1\n",
    "    )\n",
    "    \n",
    "    estimator.fit(X_train, y_train)\n",
    "    score = estimator.score(X_test, y_test)\n",
    "    \n",
    "    print('the best parameter: ', estimator.best_params_)\n",
    "    print('score: {0:.4f}'.format(score))\n",
    "    result = np.append(result, score)\n",
    "    \n",
    "print('average_score: {0:.4f}'.format(result.mean()))\n",
    "print('std_score: {0:.4f}'.format(result.std()))"
   ]
  },
  {
   "cell_type": "code",
   "execution_count": 4,
   "metadata": {
    "collapsed": false
   },
   "outputs": [
    {
     "name": "stdout",
     "output_type": "stream",
     "text": [
      "Fitting 5 folds for each of 9 candidates, totalling 45 fits\n"
     ]
    },
    {
     "name": "stderr",
     "output_type": "stream",
     "text": [
      "[Parallel(n_jobs=1)]: Done  45 out of  45 | elapsed:    0.6s finished\n"
     ]
    },
    {
     "name": "stdout",
     "output_type": "stream",
     "text": [
      "the best parameter:  {'C': 0.0625}\n",
      "score: 1.0000\n",
      "Fitting 5 folds for each of 9 candidates, totalling 45 fits\n"
     ]
    },
    {
     "name": "stderr",
     "output_type": "stream",
     "text": [
      "[Parallel(n_jobs=1)]: Done  45 out of  45 | elapsed:    0.6s finished\n"
     ]
    },
    {
     "name": "stdout",
     "output_type": "stream",
     "text": [
      "the best parameter:  {'C': 0.0625}\n",
      "score: 1.0000\n",
      "Fitting 5 folds for each of 9 candidates, totalling 45 fits\n"
     ]
    },
    {
     "name": "stderr",
     "output_type": "stream",
     "text": [
      "[Parallel(n_jobs=1)]: Done  45 out of  45 | elapsed:    0.3s finished\n"
     ]
    },
    {
     "name": "stdout",
     "output_type": "stream",
     "text": [
      "the best parameter:  {'C': 0.0625}\n",
      "score: 1.0000\n",
      "Fitting 5 folds for each of 9 candidates, totalling 45 fits\n"
     ]
    },
    {
     "name": "stderr",
     "output_type": "stream",
     "text": [
      "[Parallel(n_jobs=1)]: Done  45 out of  45 | elapsed:    0.3s finished\n"
     ]
    },
    {
     "name": "stdout",
     "output_type": "stream",
     "text": [
      "the best parameter:  {'C': 0.0625}\n",
      "score: 1.0000\n",
      "Fitting 5 folds for each of 9 candidates, totalling 45 fits\n",
      "the best parameter:  {'C': 0.0625}\n",
      "score: 1.0000\n",
      "average_score: 1.0000\n",
      "std_score: 0.0000\n"
     ]
    },
    {
     "name": "stderr",
     "output_type": "stream",
     "text": [
      "[Parallel(n_jobs=1)]: Done  45 out of  45 | elapsed:    0.3s finished\n"
     ]
    }
   ],
   "source": [
    "X, y = load_svmlight_file('datasets/mushrooms')\n",
    "X = scale(X.todense())\n",
    "y = np.array([1 if i == 2 else -1 for i in y])\n",
    "\n",
    "X_train, X_test, y_train, y_test = train_test_split(X, y, test_size=0.3, random_state=0)\n",
    "\n",
    "iter = 5\n",
    "result = np.array([])\n",
    "\n",
    "for i in range(iter):\n",
    "    estimator = GridSearchCV(\n",
    "        estimator = PassiveAggressiveClassifier(loss='hinge', n_iter=5, shuffle=True, random_state=i),\n",
    "        param_grid = {'C': [2**-4, 2**-3, 2**-2, 2**-1, 1, 2, 4, 8, 16]},\n",
    "        cv = 5,\n",
    "        verbose = 1\n",
    "    )\n",
    "    \n",
    "    estimator.fit(X_train, y_train)\n",
    "    score = estimator.score(X_test, y_test)\n",
    "    \n",
    "    print('the best parameter: ', estimator.best_params_)\n",
    "    print('score: {0:.4f}'.format(score))\n",
    "    result = np.append(result, score)\n",
    "    \n",
    "print('average_score: {0:.4f}'.format(result.mean()))\n",
    "print('std_score: {0:.4f}'.format(result.std()))"
   ]
  },
  {
   "cell_type": "code",
   "execution_count": 5,
   "metadata": {
    "collapsed": false
   },
   "outputs": [
    {
     "name": "stdout",
     "output_type": "stream",
     "text": [
      "Fitting 5 folds for each of 9 candidates, totalling 45 fits\n",
      "the best parameter:  {'C': 0.125}\n",
      "score: 0.9550\n",
      "Fitting 5 folds for each of 9 candidates, totalling 45 fits\n"
     ]
    },
    {
     "name": "stderr",
     "output_type": "stream",
     "text": [
      "[Parallel(n_jobs=1)]: Done  45 out of  45 | elapsed:    0.1s finished\n",
      "[Parallel(n_jobs=1)]: Done  45 out of  45 | elapsed:    0.1s finished\n"
     ]
    },
    {
     "name": "stdout",
     "output_type": "stream",
     "text": [
      "the best parameter:  {'C': 0.0625}\n",
      "score: 0.9442\n",
      "Fitting 5 folds for each of 9 candidates, totalling 45 fits\n",
      "the best parameter:  {'C': 0.0625}\n",
      "score: 0.9592\n",
      "Fitting 5 folds for each of 9 candidates, totalling 45 fits\n"
     ]
    },
    {
     "name": "stderr",
     "output_type": "stream",
     "text": [
      "[Parallel(n_jobs=1)]: Done  45 out of  45 | elapsed:    0.1s finished\n",
      "[Parallel(n_jobs=1)]: Done  45 out of  45 | elapsed:    0.1s finished\n"
     ]
    },
    {
     "name": "stdout",
     "output_type": "stream",
     "text": [
      "the best parameter:  {'C': 0.0625}\n",
      "score: 0.9525\n",
      "Fitting 5 folds for each of 9 candidates, totalling 45 fits\n",
      "the best parameter:  {'C': 0.0625}\n",
      "score: 0.9408\n",
      "average_score: 0.9503\n",
      "std_score: 0.0068\n"
     ]
    },
    {
     "name": "stderr",
     "output_type": "stream",
     "text": [
      "[Parallel(n_jobs=1)]: Done  45 out of  45 | elapsed:    0.1s finished\n"
     ]
    }
   ],
   "source": [
    "X, y = make_classification(n_samples=4000, n_features=65, n_informative=65, n_redundant=0, n_classes=2, n_clusters_per_class=1, \n",
    "                          weights=None, flip_y=0, shuffle=True, random_state=0)\n",
    "X = scale(X)\n",
    "y = y = np.array([1 if i == 1 else -1 for i in y])\n",
    "\n",
    "X_train, X_test, y_train, y_test = train_test_split(X, y, test_size=0.3, random_state=0)\n",
    "\n",
    "iter = 5\n",
    "result = np.array([])\n",
    "\n",
    "for i in range(iter):\n",
    "    estimator = GridSearchCV(\n",
    "        estimator = PassiveAggressiveClassifier(loss='hinge', n_iter=5, shuffle=True, random_state=i),\n",
    "        param_grid = {'C': [2**-4, 2**-3, 2**-2, 2**-1, 1, 2, 4, 8, 16]},\n",
    "        cv = 5,\n",
    "        verbose = 1\n",
    "    )\n",
    "    \n",
    "    estimator.fit(X_train, y_train)\n",
    "    score = estimator.score(X_test, y_test)\n",
    "    \n",
    "    print('the best parameter: ', estimator.best_params_)\n",
    "    print('score: {0:.4f}'.format(score))\n",
    "    result = np.append(result, score)\n",
    "    \n",
    "print('average_score: {0:.4f}'.format(result.mean()))\n",
    "print('std_score: {0:.4f}'.format(result.std()))"
   ]
  },
  {
   "cell_type": "code",
   "execution_count": null,
   "metadata": {
    "collapsed": true
   },
   "outputs": [],
   "source": []
  }
 ],
 "metadata": {
  "kernelspec": {
   "display_name": "Python 3",
   "language": "python",
   "name": "python3"
  },
  "language_info": {
   "codemirror_mode": {
    "name": "ipython",
    "version": 3
   },
   "file_extension": ".py",
   "mimetype": "text/x-python",
   "name": "python",
   "nbconvert_exporter": "python",
   "pygments_lexer": "ipython3",
   "version": "3.5.1"
  }
 },
 "nbformat": 4,
 "nbformat_minor": 0
}
