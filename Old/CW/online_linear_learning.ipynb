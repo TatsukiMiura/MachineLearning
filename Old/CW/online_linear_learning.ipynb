{
 "cells": [
  {
   "cell_type": "markdown",
   "metadata": {},
   "source": [
    "# Online linear learning"
   ]
  },
  {
   "cell_type": "code",
   "execution_count": 1,
   "metadata": {
    "collapsed": true
   },
   "outputs": [],
   "source": [
    "from abc import ABCMeta, abstractmethod"
   ]
  },
  {
   "cell_type": "code",
   "execution_count": 2,
   "metadata": {
    "collapsed": false
   },
   "outputs": [],
   "source": [
    "import numpy as np\n",
    "from sklearn.base import BaseEstimator, ClassifierMixin\n",
    "from sklearn.datasets import fetch_mldata\n",
    "from sklearn.model_selection import GridSearchCV, train_test_split\n",
    "from sklearn.preprocessing import LabelBinarizer\n",
    "from sklearn.utils import shuffle\n",
    "from sklearn.utils.validation import check_X_y, check_array, check_is_fitted"
   ]
  },
  {
   "cell_type": "code",
   "execution_count": 6,
   "metadata": {
    "collapsed": true
   },
   "outputs": [],
   "source": [
    "class BaseLinearOnline(BaseEstimator, metaclass=ABCMeta):\n",
    "    @abstractmethod\n",
    "    def __init__(self, average, n_iter, random_state, shuffle):\n",
    "        self.average      = average\n",
    "        self.n_iter       = n_iter\n",
    "        self.random_state = random_state\n",
    "        self.shuffle      = shuffle\n",
    "\n",
    "    def fit(self, X, y):\n",
    "        X, y                      = check_X_y(X, y)\n",
    "        self.label_binarizer_     = LabelBinarizer(neg_label=-1, pos_label=1)\n",
    "        Y                         = self.label_binarizer_.fit_transform(y)\n",
    "        n_samples, n_features     = X.shape\n",
    "        n_samples, n_classes      = Y.shape\n",
    "        self.coef_                = np.zeros((n_features, n_classes))\n",
    "\n",
    "        if self.average:\n",
    "            average_coef          = np.zeros((n_features, n_classes))\n",
    "\n",
    "        t                         = 1\n",
    "\n",
    "        for epoch in range(self.n_iter):\n",
    "            if self.shuffle:\n",
    "                X, Y              = shuffle(X, Y, random_state=self.random_state)\n",
    "\n",
    "            for i in range(n_samples):\n",
    "                self._update(X[i:i + 1], Y[i:i + 1])\n",
    "\n",
    "                if self.average:\n",
    "                    average_coef *= t / (t + 1.0)\n",
    "                    average_coef += 1.0 / (t + 1.0) * self.coef_\n",
    "\n",
    "                t                 = t + 1\n",
    "\n",
    "        if self.average:\n",
    "            self.coef_            = average_coef\n",
    "\n",
    "        return self\n",
    "\n",
    "    @abstractmethod\n",
    "    def _update(self, X, Y):\n",
    "        pass"
   ]
  },
  {
   "cell_type": "code",
   "execution_count": 4,
   "metadata": {
    "collapsed": true
   },
   "outputs": [],
   "source": [
    "class LinearClassifierMixin(ClassifierMixin):\n",
    "    def decision_function(self, X):\n",
    "        return X @ self.coef_\n",
    "\n",
    "    def predict(self, X):\n",
    "        check_is_fitted(self, ['coef_'])\n",
    "\n",
    "        X = check_array(X)\n",
    "        \n",
    "        return self.label_binarizer_.inverse_transform(self.decision_function(X))"
   ]
  },
  {
   "cell_type": "markdown",
   "metadata": {},
   "source": [
    "## Perceptron\n",
    "\n",
    "\\begin{align}\n",
    "    \\mathbf{w}_{t + 1} = \\begin{cases}\n",
    "        \\mathbf{w}_{t} + \\eta y_{t} \\mathbf{x}_{t} & \\text{if} \\quad y_{t} \\langle \\mathbf{w}_{t}, \\mathbf{x}_{t} \\rangle \\leq 0 \\\\\n",
    "        \\mathbf{w}_{t}                             & \\text{otherwise}\n",
    "    \\end{cases}\n",
    "\\end{align}"
   ]
  },
  {
   "cell_type": "code",
   "execution_count": 5,
   "metadata": {
    "collapsed": true
   },
   "outputs": [],
   "source": [
    "class Perceptron(BaseLinearOnline, LinearClassifierMixin):\n",
    "    def __init__(\n",
    "        self,              average=False, lr=1.0, n_iter=5,\n",
    "        random_state=None, shuffle=True\n",
    "    ):\n",
    "        super(Perceptron, self).__init__(\n",
    "            average=average,           n_iter=n_iter,\n",
    "            random_state=random_state, shuffle=shuffle\n",
    "        )\n",
    "\n",
    "        self.lr = lr\n",
    "\n",
    "    def _update(self, X, Y):\n",
    "        P           = self.decision_function(X)\n",
    "        self.coef_ += self.lr * np.where(Y * P <= 0.0, X.T @ Y, 0.0)"
   ]
  },
  {
   "cell_type": "markdown",
   "metadata": {},
   "source": [
    "## Perceptron with uneven margins [2]\n",
    "\n",
    "\\begin{align}\n",
    "    \\mathbf{w}_{t + 1} = \\begin{cases}\n",
    "        \\mathbf{w}_{t} + \\eta y_{t} \\mathbf{x}_{t} & \\text{if} \\quad y_{t} \\langle \\mathbf{w}_{t}, \\mathbf{x}_{t} \\rangle \\leq \\tau_{y_{t}} \\\\\n",
    "        \\mathbf{w}_{t}                             & \\text{otherwise}\n",
    "    \\end{cases}\n",
    "\\end{align}\n",
    "\n",
    "where $\\tau_{-1}, \\tau_{+1}$ are fixed margin parameters chosen before learning."
   ]
  },
  {
   "cell_type": "code",
   "execution_count": 6,
   "metadata": {
    "collapsed": true
   },
   "outputs": [],
   "source": [
    "class PAUM(BaseLinearOnline, LinearClassifierMixin):\n",
    "    def __init__(\n",
    "        self,         lr=1.0,       n_iter=5,    random_state=None,\n",
    "        shuffle=True, tau_neg=-1.0, tau_pos=1.0\n",
    "    ):\n",
    "        super(PAUM, self).__init__(\n",
    "            average=False,           n_iter=n_iter,\n",
    "            random_state=random_state, shuffle=shuffle\n",
    "        )\n",
    "\n",
    "        self.lr      = lr\n",
    "        self.tau_neg = tau_neg\n",
    "        self.tau_pos = tau_pos\n",
    "\n",
    "    def _update(self, X, Y):\n",
    "        margin_params = np.where(Y == -1, self.tau_neg, self.tau_pos)\n",
    "        P             = self.decision_function(X)\n",
    "        self.coef_   += self.lr * np.where(Y * P <= margin_params, X.T @ Y, 0.0)"
   ]
  },
  {
   "cell_type": "markdown",
   "metadata": {},
   "source": [
    "## Passive aggressive [1]\n",
    "\n",
    "\\begin{align}\n",
    "    \\mathbf{w}_{t + 1} = \\mathbf{w}_{t} + \\eta y_{t} \\mathbf{x}_{t}\n",
    "\\end{align}\n",
    "\n",
    "- PA\n",
    "\n",
    "\\begin{align}\n",
    "    \\mathbf{w}_{t + 1} &= \\underset{\\mathbf{w} \\in \\mathbb{R}^{d}}{\\mathrm{argmin}} \\frac{1}{2} \\| \\mathbf{w} - \\mathbf{w}_{t} \\|^{2} + \\infty H(\\mathbf{x}_{t}, y_{t}, \\mathbf{w}) \\\\\n",
    "    \\eta               &= \\frac{H(\\mathbf{x}_{t}, y_{t}, \\mathbf{w}_{t})}{\\| \\mathbf{x}_{t} \\|^{2}}\n",
    "\\end{align}\n",
    "\n",
    "- PA-I\n",
    "\n",
    "\\begin{align}\n",
    "    \\mathbf{w}_{t + 1} &= \\underset{\\mathbf{w} \\in \\mathbb{R}^{d}}{\\mathrm{argmin}} \\frac{1}{2} \\| \\mathbf{w} - \\mathbf{w}_{t} \\|^{2} + C H(\\mathbf{x}_{t}, y_{t}, \\mathbf{w}) \\\\\n",
    "    \\eta               &= \\min (\\frac{H(\\mathbf{x}_{t}, y_{t}, \\mathbf{w}_{t})}{\\| \\mathbf{x}_{t} \\|^{2}}, C)\n",
    "\\end{align}\n",
    "\n",
    "- PA-II\n",
    "\n",
    "\\begin{align}\n",
    "    \\mathbf{w}_{t + 1} &= \\underset{\\mathbf{w} \\in \\mathbb{R}^{d}}{\\mathrm{argmin}} \\frac{1}{2} \\| \\mathbf{w} - \\mathbf{w}_{t} \\|^{2} + C H(\\mathbf{x}_{t}, y_{t}, \\mathbf{w})^{2} \\\\\n",
    "    \\eta               &= \\frac{H(\\mathbf{x}_{t}, y_{t}, \\mathbf{w}_{t})}{\\| \\mathbf{x}_{t} \\|^{2} + \\frac{1}{2 C}}\n",
    "\\end{align}"
   ]
  },
  {
   "cell_type": "code",
   "execution_count": 7,
   "metadata": {
    "collapsed": true
   },
   "outputs": [],
   "source": [
    "class PassiveAggressiveClassifier(BaseLinearOnline, LinearClassifierMixin):\n",
    "    def __init__(\n",
    "        self,              C=1.0,        loss='hinge', n_iter=5,\n",
    "        random_state=None, shuffle=True\n",
    "    ):\n",
    "        super(PassiveAggressiveClassifier, self).__init__(\n",
    "            average=False,             n_iter=n_iter,\n",
    "            random_state=random_state, shuffle=shuffle\n",
    "        )\n",
    "\n",
    "        self.C    = C\n",
    "        self.loss = loss\n",
    "\n",
    "    def _update(self, X, Y):\n",
    "        P           = self.decision_function(X)\n",
    "        hinge_loss  = np.maximum(1.0 - Y * P, 0.0)\n",
    "\n",
    "        if self.loss == 'hinge':\n",
    "            eta     = np.minimum(hinge_loss, self.C) / (X @ X.T)\n",
    "        elif self.loss == 'squared_hinge':\n",
    "            eta     = hinge_loss / (X @ X.T + 0.5 / self.C)\n",
    "\n",
    "        self.coef_ += eta * (X.T @ Y)"
   ]
  },
  {
   "cell_type": "markdown",
   "metadata": {},
   "source": [
    "## Example: usps"
   ]
  },
  {
   "cell_type": "code",
   "execution_count": null,
   "metadata": {
    "collapsed": false,
    "scrolled": true
   },
   "outputs": [],
   "source": [
    "usps           = fetch_mldata('usps')\n",
    "X              = usps.data\n",
    "y              = usps.target\n",
    "X_train        = X[:7291]\n",
    "X_test         = X[7291:]\n",
    "y_train        = y[:7291]\n",
    "y_test         = y[7291:]\n",
    "\n",
    "score          = GridSearchCV(\n",
    "    estimator  = Perceptron(random_state=0),\n",
    "    param_grid = {'lr': (0.001, 0.01, 0.1, 1.0)}\n",
    ").fit(X_train, y_train).score(X_test, y_test)\n",
    "print('Perceptron:          {0:.4f}'.format(score))\n",
    "\n",
    "score          = GridSearchCV(\n",
    "    estimator  = Perceptron(average=True, random_state=0),\n",
    "    param_grid = {'lr': (0.001, 0.01, 0.1, 1.0)}\n",
    ").fit(X_train, y_train).score(X_test, y_test)\n",
    "print('Averaged Perceptron: {0:.4f}'.format(score))\n",
    "\n",
    "score          = GridSearchCV(\n",
    "    estimator  = PAUM(random_state=0),\n",
    "    param_grid = {'lr': (0.001, 0.01, 0.1, 1.0)}\n",
    ").fit(X_train, y_train).score(X_test, y_test)\n",
    "print('PAUM(-1, 1):         {0:.4f}'.format(score))\n",
    "\n",
    "score          = GridSearchCV(\n",
    "    estimator  = PassiveAggressiveClassifier(random_state=0),\n",
    "    param_grid = {'C': (0.001, 0.01, 0.1, 1.0)}\n",
    ").fit(X_train, y_train).score(X_test, y_test)\n",
    "print('PA-I:                {0:.4f}'.format(score))\n",
    "\n",
    "score          = GridSearchCV(\n",
    "    estimator  = PassiveAggressiveClassifier(loss='squared_hinge', random_state=0),\n",
    "    param_grid = {'C': (0.001, 0.01, 0.1, 1.0)}\n",
    ").fit(X_train, y_train).score(X_test, y_test)\n",
    "print('PA-II:               {0:.4f}'.format(score))"
   ]
  },
  {
   "cell_type": "markdown",
   "metadata": {},
   "source": [
    "## TODO\n",
    "\n",
    "The following implementation:\n",
    "\n",
    "- multiclass PA [Crammer+, JMLR, 2006]\n",
    "- CW [Dredze+, ICML, 2008]\n",
    "- AROW [Crammer+, NIPS, 2009]\n",
    "- SCW [Wang+, ICML, 2012]"
   ]
  },
  {
   "cell_type": "markdown",
   "metadata": {},
   "source": [
    "## References\n",
    "\n",
    "1. K. Crammer, O. Dekel, J. Keshet , S. Shalev-Shwartz and Y. Singer, \"[Online Passive-Aggressive Algorithms](http://www.jmlr.org/papers/volume7/crammer06a/crammer06a.pdf),\" JMLR, 2006.\n",
    "2. Y. Li, H. Zaragoza, R. Herbrich, J. Shawe-Taylor, and J. Kandola, \"[The Perceptron Algorithm with Uneven Margins](https://pdfs.semanticscholar.org/2285/2d7c76d517adb6f5ebe4f70c0b3c3e9ee24c.pdf),\" in NIPS, 2002."
   ]
  }
 ],
 "metadata": {
  "anaconda-cloud": {},
  "kernelspec": {
   "display_name": "Python 3",
   "language": "python",
   "name": "python3"
  },
  "language_info": {
   "codemirror_mode": {
    "name": "ipython",
    "version": 3
   },
   "file_extension": ".py",
   "mimetype": "text/x-python",
   "name": "python",
   "nbconvert_exporter": "python",
   "pygments_lexer": "ipython3",
   "version": "3.5.1"
  }
 },
 "nbformat": 4,
 "nbformat_minor": 0
}
